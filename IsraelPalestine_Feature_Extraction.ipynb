{
  "cells": [
    {
      "cell_type": "markdown",
      "metadata": {
        "id": "AdpkmVk4cVPe"
      },
      "source": [
        "# Imports & Setup"
      ]
    },
    {
      "cell_type": "code",
      "execution_count": null,
      "metadata": {
        "colab": {
          "base_uri": "https://localhost:8080/"
        },
        "collapsed": true,
        "id": "P-MqUYRCAxjK",
        "outputId": "d38a7f54-12c9-4cc2-fd90-8b104515fe23"
      },
      "outputs": [
        {
          "output_type": "stream",
          "name": "stdout",
          "text": [
            "Requirement already satisfied: tensorflow in /usr/local/lib/python3.11/dist-packages (2.18.0)\n",
            "Requirement already satisfied: absl-py>=1.0.0 in /usr/local/lib/python3.11/dist-packages (from tensorflow) (1.4.0)\n",
            "Requirement already satisfied: astunparse>=1.6.0 in /usr/local/lib/python3.11/dist-packages (from tensorflow) (1.6.3)\n",
            "Requirement already satisfied: flatbuffers>=24.3.25 in /usr/local/lib/python3.11/dist-packages (from tensorflow) (25.2.10)\n",
            "Requirement already satisfied: gast!=0.5.0,!=0.5.1,!=0.5.2,>=0.2.1 in /usr/local/lib/python3.11/dist-packages (from tensorflow) (0.6.0)\n",
            "Requirement already satisfied: google-pasta>=0.1.1 in /usr/local/lib/python3.11/dist-packages (from tensorflow) (0.2.0)\n",
            "Requirement already satisfied: libclang>=13.0.0 in /usr/local/lib/python3.11/dist-packages (from tensorflow) (18.1.1)\n",
            "Requirement already satisfied: opt-einsum>=2.3.2 in /usr/local/lib/python3.11/dist-packages (from tensorflow) (3.4.0)\n",
            "Requirement already satisfied: packaging in /usr/local/lib/python3.11/dist-packages (from tensorflow) (24.2)\n",
            "Requirement already satisfied: protobuf!=4.21.0,!=4.21.1,!=4.21.2,!=4.21.3,!=4.21.4,!=4.21.5,<6.0.0dev,>=3.20.3 in /usr/local/lib/python3.11/dist-packages (from tensorflow) (4.25.6)\n",
            "Requirement already satisfied: requests<3,>=2.21.0 in /usr/local/lib/python3.11/dist-packages (from tensorflow) (2.32.3)\n",
            "Requirement already satisfied: setuptools in /usr/local/lib/python3.11/dist-packages (from tensorflow) (75.1.0)\n",
            "Requirement already satisfied: six>=1.12.0 in /usr/local/lib/python3.11/dist-packages (from tensorflow) (1.17.0)\n",
            "Requirement already satisfied: termcolor>=1.1.0 in /usr/local/lib/python3.11/dist-packages (from tensorflow) (2.5.0)\n",
            "Requirement already satisfied: typing-extensions>=3.6.6 in /usr/local/lib/python3.11/dist-packages (from tensorflow) (4.12.2)\n",
            "Requirement already satisfied: wrapt>=1.11.0 in /usr/local/lib/python3.11/dist-packages (from tensorflow) (1.17.2)\n",
            "Requirement already satisfied: grpcio<2.0,>=1.24.3 in /usr/local/lib/python3.11/dist-packages (from tensorflow) (1.70.0)\n",
            "Requirement already satisfied: tensorboard<2.19,>=2.18 in /usr/local/lib/python3.11/dist-packages (from tensorflow) (2.18.0)\n",
            "Requirement already satisfied: keras>=3.5.0 in /usr/local/lib/python3.11/dist-packages (from tensorflow) (3.8.0)\n",
            "Requirement already satisfied: numpy<2.1.0,>=1.26.0 in /usr/local/lib/python3.11/dist-packages (from tensorflow) (1.26.4)\n",
            "Requirement already satisfied: h5py>=3.11.0 in /usr/local/lib/python3.11/dist-packages (from tensorflow) (3.12.1)\n",
            "Requirement already satisfied: ml-dtypes<0.5.0,>=0.4.0 in /usr/local/lib/python3.11/dist-packages (from tensorflow) (0.4.1)\n",
            "Requirement already satisfied: tensorflow-io-gcs-filesystem>=0.23.1 in /usr/local/lib/python3.11/dist-packages (from tensorflow) (0.37.1)\n",
            "Requirement already satisfied: wheel<1.0,>=0.23.0 in /usr/local/lib/python3.11/dist-packages (from astunparse>=1.6.0->tensorflow) (0.45.1)\n",
            "Requirement already satisfied: rich in /usr/local/lib/python3.11/dist-packages (from keras>=3.5.0->tensorflow) (13.9.4)\n",
            "Requirement already satisfied: namex in /usr/local/lib/python3.11/dist-packages (from keras>=3.5.0->tensorflow) (0.0.8)\n",
            "Requirement already satisfied: optree in /usr/local/lib/python3.11/dist-packages (from keras>=3.5.0->tensorflow) (0.14.0)\n",
            "Requirement already satisfied: charset-normalizer<4,>=2 in /usr/local/lib/python3.11/dist-packages (from requests<3,>=2.21.0->tensorflow) (3.4.1)\n",
            "Requirement already satisfied: idna<4,>=2.5 in /usr/local/lib/python3.11/dist-packages (from requests<3,>=2.21.0->tensorflow) (3.10)\n",
            "Requirement already satisfied: urllib3<3,>=1.21.1 in /usr/local/lib/python3.11/dist-packages (from requests<3,>=2.21.0->tensorflow) (2.3.0)\n",
            "Requirement already satisfied: certifi>=2017.4.17 in /usr/local/lib/python3.11/dist-packages (from requests<3,>=2.21.0->tensorflow) (2025.1.31)\n",
            "Requirement already satisfied: markdown>=2.6.8 in /usr/local/lib/python3.11/dist-packages (from tensorboard<2.19,>=2.18->tensorflow) (3.7)\n",
            "Requirement already satisfied: tensorboard-data-server<0.8.0,>=0.7.0 in /usr/local/lib/python3.11/dist-packages (from tensorboard<2.19,>=2.18->tensorflow) (0.7.2)\n",
            "Requirement already satisfied: werkzeug>=1.0.1 in /usr/local/lib/python3.11/dist-packages (from tensorboard<2.19,>=2.18->tensorflow) (3.1.3)\n",
            "Requirement already satisfied: MarkupSafe>=2.1.1 in /usr/local/lib/python3.11/dist-packages (from werkzeug>=1.0.1->tensorboard<2.19,>=2.18->tensorflow) (3.0.2)\n",
            "Requirement already satisfied: markdown-it-py>=2.2.0 in /usr/local/lib/python3.11/dist-packages (from rich->keras>=3.5.0->tensorflow) (3.0.0)\n",
            "Requirement already satisfied: pygments<3.0.0,>=2.13.0 in /usr/local/lib/python3.11/dist-packages (from rich->keras>=3.5.0->tensorflow) (2.18.0)\n",
            "Requirement already satisfied: mdurl~=0.1 in /usr/local/lib/python3.11/dist-packages (from markdown-it-py>=2.2.0->rich->keras>=3.5.0->tensorflow) (0.1.2)\n"
          ]
        }
      ],
      "source": [
        "!pip install tensorflow"
      ]
    },
    {
      "cell_type": "code",
      "execution_count": null,
      "metadata": {
        "colab": {
          "base_uri": "https://localhost:8080/"
        },
        "collapsed": true,
        "id": "kcQNw7Rd_r8g",
        "outputId": "1613889b-0958-4cf0-f03e-1aefaad842ff"
      },
      "outputs": [
        {
          "output_type": "stream",
          "name": "stderr",
          "text": [
            "[nltk_data] Downloading package punkt to /root/nltk_data...\n",
            "[nltk_data]   Unzipping tokenizers/punkt.zip.\n",
            "[nltk_data] Downloading package punkt_tab to /root/nltk_data...\n",
            "[nltk_data]   Unzipping tokenizers/punkt_tab.zip.\n",
            "[nltk_data] Downloading package stopwords to /root/nltk_data...\n",
            "[nltk_data]   Unzipping corpora/stopwords.zip.\n"
          ]
        }
      ],
      "source": [
        "import os\n",
        "import re\n",
        "import json\n",
        "import pickle\n",
        "from datetime import datetime\n",
        "from collections import defaultdict\n",
        "\n",
        "import nltk\n",
        "from nltk.corpus import stopwords\n",
        "from nltk.tokenize import word_tokenize\n",
        "nltk.download('punkt')\n",
        "nltk.download('punkt_tab')\n",
        "nltk.download('stopwords')\n",
        "\n",
        "import networkx as nx\n",
        "import matplotlib.pyplot as plt\n",
        "\n",
        "import gensim\n",
        "from gensim import corpora, models\n",
        "\n",
        "from transformers import pipeline\n",
        "from textblob import TextBlob\n",
        "\n",
        "import pandas as pd\n",
        "from tqdm import tqdm\n",
        "import tensorflow as tf\n",
        "import numpy as np\n",
        "import shutil"
      ]
    },
    {
      "cell_type": "code",
      "execution_count": null,
      "metadata": {
        "colab": {
          "base_uri": "https://localhost:8080/"
        },
        "id": "auLaZJ2cAfiY",
        "outputId": "180f477c-f013-4695-b7fb-989878ade726"
      },
      "outputs": [
        {
          "output_type": "stream",
          "name": "stdout",
          "text": [
            "Mounted at /content/drive\n"
          ]
        }
      ],
      "source": [
        "# Mount Google Drive in Colab\n",
        "from google.colab import drive\n",
        "drive.mount('/content/drive')"
      ]
    },
    {
      "cell_type": "markdown",
      "metadata": {
        "id": "5GN0yBnBcj7q"
      },
      "source": [
        "# Helper Functions"
      ]
    },
    {
      "cell_type": "code",
      "execution_count": null,
      "metadata": {
        "id": "oU-0PFZO_5Sk"
      },
      "outputs": [],
      "source": [
        "#########################\n",
        "# Preprocessing Functions\n",
        "#########################\n",
        "\n",
        "def clean_text(text):\n",
        "    \"\"\"\n",
        "    Lowercase, remove non-alphanumeric characters,\n",
        "    tokenize, and remove stopwords.\n",
        "    \"\"\"\n",
        "    text = text.lower()\n",
        "    text = re.sub(r'\\W+', ' ', text)\n",
        "    tokens = word_tokenize(text)\n",
        "    stop_words = set(stopwords.words('english'))\n",
        "    tokens = [t for t in tokens if t not in stop_words]\n",
        "    return \" \".join(tokens)\n",
        "\n",
        "\n",
        "def clean_for_sentiment(text):\n",
        "    \"\"\"\n",
        "    Minimal cleaning for sentiment analysis:\n",
        "      - Remove HTML tags.\n",
        "      - Remove URLs.\n",
        "      - Remove extra whitespace.\n",
        "    \"\"\"\n",
        "    text = re.sub(r'<[^>]+>', '', text)\n",
        "    text = re.sub(r'http\\S+|www\\S+|https\\S+', '', text, flags=re.MULTILINE)\n",
        "    text = re.sub(r'\\s+', ' ', text).strip()\n",
        "    return text"
      ]
    },
    {
      "cell_type": "code",
      "execution_count": null,
      "metadata": {
        "colab": {
          "base_uri": "https://localhost:8080/",
          "height": 331,
          "referenced_widgets": [
            "7e1d3348ea7942bab2f0b7a6fa205825",
            "a6ac636e2004463699f7baf6240c212e",
            "040f1501c0784562b7954ed6ceab7e8d",
            "d969d62523a84abab512f2b6d77415e7",
            "cd91169901ac41ea885898dd46dfbe78",
            "01273b75387941449612cb5a38cbae75",
            "933feffc8653466d8cabd22589f29a10",
            "5ba89dce8bbd4cc08fadbad0339bfd89",
            "93da846d7db445ad9205f903c205e53a",
            "2aef78cbe42f4e2ea421b1d0748d4539",
            "fd1f4f72263940eda9b9ead7e2b74f77",
            "996b2092643f4845902e8642b0702a9d",
            "062e9fccb9f145d39815483aafee814c",
            "f35c044646dc4397808a346c5df7b6ab",
            "66ba4720e9b343dfaa042e1adb702586",
            "91f14faf82f34e8faed993c92c5ace7a",
            "8926dff2466349319d498b1ef1efd2fb",
            "9e0c768eb12b409d9348c201c058d1b2",
            "bdd36a24a4604789ac18038db3fb1055",
            "85c9b73c8a0243029b62cfedf78db9d7",
            "88582be19cda4000872a327033fa2673",
            "bcd60bf338aa4e8db1228269b4f77015",
            "90f32e5078d943fd86caecabadf65b1c",
            "ef0565cbb2894582bd5b1f3afbf9b3ea",
            "bf4f321da2124450b761ab9bed7ab92a",
            "654883078d8f455ead1165979b64b728",
            "1861f4bf2f1f45879be11c71030c26e1",
            "d1bc8ddddb594ea5afcf00d793eadcf2",
            "234079aa00b445569f38f8d4ada3e660",
            "5a6eeb84cb6c49e1b0dae5ac333e1857",
            "739e96c447e9499ca7ed45233e1eea18",
            "b4fc5a7c88da497c9921ff5fca8cce80",
            "12229870e1d643d3b6027f52393ddd99",
            "1a32067c5b514cdb97460d53e260253a",
            "a909252bcd134bda9625128cdcd3e3e0",
            "b44a62f6c0a145fa89bd854f415ce921",
            "6fc7d3d7c44c4c5883faebb54863e98c",
            "0520b585856a41e49160a627b206601f",
            "ba04d378a8cf46f3896c4e927c45127a",
            "4cb406743be84d6d8cdb4d4936917b39",
            "154a29427e6e4190a5ddaf616f9f5a73",
            "32ec973bc18241d4a67209f1ddb2311d",
            "83e28920b36247dc9d31311cf01c64da",
            "bc4bccffb01c4cb9beec8387587af215",
            "863be51c995347d18b805dda20f2b3f5",
            "e2b9d84cf4dc44ad8d943591fac5f842",
            "c0e889745839468dbb1dde3b3d96cd8f",
            "9b9bd054249644659040c8a78be349a9",
            "61ce5a48b1e34aabac9796635a8fc4ec",
            "2dfff1f6ddcd4dff84fd6877c7847ec5",
            "be11ab58551a44ce8aa18484780a8f31",
            "ef1430c7e3484be0aa16dd07b836942c",
            "a49a12fdfb2841bead0a5d2b3589c451",
            "f186cd9519e247518ce7494d26e7c2e2",
            "65b270aabcda4278954bdda22ba885cf",
            "db4dfae7ceb443379d6f4d0cdf266fed",
            "86a80ce1b24c420280572080b6a541b9",
            "38d91172b7844ed9b931d32385e77264",
            "29ea0002cf0645c4b2e67f04e03a41d3",
            "a7d77ea8efe04beca3520d940d5cdb93",
            "2d424bd4ddc0451092b84310eed06006",
            "e8ca0a9a66c946788fd95e457dab9a0f",
            "e48decf6805c4a0ba4e75c6806dd50e9",
            "6aef96482b5346d296a74f985747e196",
            "e3b3363a040a4546b21cba1054ce2b7f",
            "2c4a2a5261ce4c17a18d0baa53cbfa50"
          ]
        },
        "id": "jxYnahvg78N1",
        "outputId": "b1fe861c-34d3-4fe4-8a07-a8b7c11ad21c"
      },
      "outputs": [
        {
          "output_type": "stream",
          "name": "stderr",
          "text": [
            "/usr/local/lib/python3.11/dist-packages/huggingface_hub/utils/_auth.py:94: UserWarning: \n",
            "The secret `HF_TOKEN` does not exist in your Colab secrets.\n",
            "To authenticate with the Hugging Face Hub, create a token in your settings tab (https://huggingface.co/settings/tokens), set it as secret in your Google Colab and restart your session.\n",
            "You will be able to reuse this secret in all of your notebooks.\n",
            "Please note that authentication is recommended but still optional to access public models or datasets.\n",
            "  warnings.warn(\n"
          ]
        },
        {
          "output_type": "display_data",
          "data": {
            "text/plain": [
              "config.json:   0%|          | 0.00/1.15k [00:00<?, ?B/s]"
            ],
            "application/vnd.jupyter.widget-view+json": {
              "version_major": 2,
              "version_minor": 0,
              "model_id": "7e1d3348ea7942bab2f0b7a6fa205825"
            }
          },
          "metadata": {}
        },
        {
          "output_type": "display_data",
          "data": {
            "text/plain": [
              "model.safetensors:   0%|          | 0.00/1.63G [00:00<?, ?B/s]"
            ],
            "application/vnd.jupyter.widget-view+json": {
              "version_major": 2,
              "version_minor": 0,
              "model_id": "996b2092643f4845902e8642b0702a9d"
            }
          },
          "metadata": {}
        },
        {
          "output_type": "display_data",
          "data": {
            "text/plain": [
              "tokenizer_config.json:   0%|          | 0.00/26.0 [00:00<?, ?B/s]"
            ],
            "application/vnd.jupyter.widget-view+json": {
              "version_major": 2,
              "version_minor": 0,
              "model_id": "90f32e5078d943fd86caecabadf65b1c"
            }
          },
          "metadata": {}
        },
        {
          "output_type": "display_data",
          "data": {
            "text/plain": [
              "vocab.json:   0%|          | 0.00/899k [00:00<?, ?B/s]"
            ],
            "application/vnd.jupyter.widget-view+json": {
              "version_major": 2,
              "version_minor": 0,
              "model_id": "1a32067c5b514cdb97460d53e260253a"
            }
          },
          "metadata": {}
        },
        {
          "output_type": "display_data",
          "data": {
            "text/plain": [
              "merges.txt:   0%|          | 0.00/456k [00:00<?, ?B/s]"
            ],
            "application/vnd.jupyter.widget-view+json": {
              "version_major": 2,
              "version_minor": 0,
              "model_id": "863be51c995347d18b805dda20f2b3f5"
            }
          },
          "metadata": {}
        },
        {
          "output_type": "display_data",
          "data": {
            "text/plain": [
              "tokenizer.json:   0%|          | 0.00/1.36M [00:00<?, ?B/s]"
            ],
            "application/vnd.jupyter.widget-view+json": {
              "version_major": 2,
              "version_minor": 0,
              "model_id": "db4dfae7ceb443379d6f4d0cdf266fed"
            }
          },
          "metadata": {}
        },
        {
          "output_type": "stream",
          "name": "stderr",
          "text": [
            "Device set to use cuda:0\n"
          ]
        }
      ],
      "source": [
        "#########################\n",
        "# Model Setup\n",
        "#########################\n",
        "\n",
        "# Use GPU if available\n",
        "zero_shot_classifier = pipeline(\"zero-shot-classification\", model=\"facebook/bart-large-mnli\", device=0)\n",
        "\n",
        "def classify_ideology(text):\n",
        "    \"\"\"\n",
        "    Use zero-shot classification to assign an ideology label.\n",
        "    Candidate labels are \"pro-Israeli\" and \"pro-Palestinian\".\n",
        "    Returns the highest scoring label.\n",
        "    \"\"\"\n",
        "    if not text.strip():\n",
        "        return \"neutral\"\n",
        "    candidate_labels = [\"pro-Israeli\", \"pro-Palestinian\", \"neutral\"]\n",
        "    try:\n",
        "        result = zero_shot_classifier(text, candidate_labels)\n",
        "        return result['labels'][0]\n",
        "    except Exception as e:\n",
        "        print(\"Classification error:\", e)\n",
        "        return \"neutral\"\n",
        "\n",
        "def get_sentiment(text):\n",
        "    \"\"\"\n",
        "    Compute sentiment polarity using TextBlob.\n",
        "    Returns a polarity score in the range [-1, 1].\n",
        "    \"\"\"\n",
        "    try:\n",
        "        return TextBlob(text).sentiment.polarity\n",
        "    except Exception as e:\n",
        "        print(\"Sentiment error:\", e)\n",
        "        return 0.0\n"
      ]
    },
    {
      "cell_type": "code",
      "execution_count": null,
      "metadata": {
        "id": "_3_Ha3ge7_55"
      },
      "outputs": [],
      "source": [
        "#########################\n",
        "# Data Loading Function\n",
        "#########################\n",
        "\n",
        "def load_json(file_path):\n",
        "    with open(file_path, 'r', encoding='utf-8') as f:\n",
        "        data = json.load(f)\n",
        "    return data"
      ]
    },
    {
      "cell_type": "code",
      "execution_count": null,
      "metadata": {
        "colab": {
          "base_uri": "https://localhost:8080/"
        },
        "id": "LjU7VbcILnkl",
        "outputId": "5885b096-9da2-49d2-8a8c-3246e0fee848"
      },
      "outputs": [
        {
          "output_type": "stream",
          "name": "stdout",
          "text": [
            "Text: Israel has a strong right to defend itself in a challenging geopolitical climate.\n",
            "Predicted Label: pro-Israeli\n",
            "Scores: [0.8635569214820862, 0.12500016391277313, 0.011442952789366245]\n",
            "----------------------------------------\n",
            "Text: Palestinians have endured decades of oppression and deserve justice.\n",
            "Predicted Label: pro-Palestinian\n",
            "Scores: [0.8346067070960999, 0.1417410522699356, 0.023652270436286926]\n",
            "----------------------------------------\n"
          ]
        }
      ],
      "source": [
        "# Test the zero-shot classification pipeline\n",
        "test_texts = [\n",
        "    \"Israel has a strong right to defend itself in a challenging geopolitical climate.\",\n",
        "    \"Palestinians have endured decades of oppression and deserve justice.\"\n",
        "]\n",
        "candidate_labels = [\"pro-Israeli\", \"pro-Palestinian\", \"netural\"]\n",
        "\n",
        "# Run the pipeline on the test texts (using batching)\n",
        "results = zero_shot_classifier(test_texts, candidate_labels=candidate_labels)\n",
        "\n",
        "for text, res in zip(test_texts, results):\n",
        "    print(f\"Text: {text}\")\n",
        "    print(f\"Predicted Label: {res['labels'][0]}\")\n",
        "    print(f\"Scores: {res['scores']}\")\n",
        "    print(\"-\" * 40)\n"
      ]
    },
    {
      "cell_type": "markdown",
      "metadata": {
        "id": "upcPPkv1-jDG"
      },
      "source": [
        "# Constants configs"
      ]
    },
    {
      "cell_type": "code",
      "execution_count": null,
      "metadata": {
        "id": "o1hWQXxOBr4j"
      },
      "outputs": [],
      "source": [
        "#########################\n",
        "# Main Execution\n",
        "#########################\n",
        "\n",
        "# List of months from 09/23 to 10/24 (as strings \"YYYY-MM\")\n",
        "months = [\"2023-09\", \"2023-10\", \"2023-11\", \"2023-12\", \"2024-01\", \"2024-02\",\n",
        "          \"2024-03\", \"2024-04\", \"2024-05\", \"2024-06\", \"2024-07\", \"2024-08\",\n",
        "          \"2024-09\", \"2024-10\"]\n",
        "\n",
        "# Set the directory where the JSON files are stored (in Google Drive)\n",
        "data_dir = '/content/drive/My Drive/IsraelPalestine subreddit data/processed_data'\n",
        "\n",
        "\n",
        "output_dir = '/content/time_series_analysis'  # Local output in Colab\n",
        "drive_output_dir = '/content/drive/My Drive/time_series_analysis'  # Also save to Drive\n",
        "\n",
        "os.makedirs(output_dir, exist_ok=True)\n",
        "os.makedirs(drive_output_dir, exist_ok=True)"
      ]
    },
    {
      "cell_type": "markdown",
      "metadata": {
        "id": "TlBfsciicvbg"
      },
      "source": [
        "# Process Monthly Data"
      ]
    },
    {
      "cell_type": "code",
      "execution_count": null,
      "metadata": {
        "id": "aozEg1Y5BV4x"
      },
      "outputs": [],
      "source": [
        "def process_submissions_month(month_str, data_dir, batch_size=32):\n",
        "    \"\"\"\n",
        "    Process a month's submissions from the full_data file.\n",
        "    For each submission:\n",
        "      - Extract raw text (title + selftext).\n",
        "      - Compute sentiment using minimally cleaned text.\n",
        "      - Record metadata (author, created_date, etc.).\n",
        "      - Perform batched zero-shot classification for ideology using the candidate labels:\n",
        "           \"pro-Israeli\", \"pro-Palestinian\", \"neutral\"\n",
        "\n",
        "    Returns:\n",
        "      - submissions: A list of processed submission records with \"ideology\" and \"sentiment\" assigned.\n",
        "    \"\"\"\n",
        "\n",
        "    file_path = os.path.join(data_dir, f\"IsraelPalestine_{month_str}_full_data.json\")\n",
        "    if not os.path.exists(file_path):\n",
        "        print(f\"File not found: {file_path}\")\n",
        "        return []\n",
        "\n",
        "    full_data = load_json(file_path)\n",
        "\n",
        "    submissions = []\n",
        "    batch_texts = []\n",
        "    batch_indices = []\n",
        "\n",
        "    for sub_id, sub_dict in full_data.items():\n",
        "        submission = sub_dict.get(\"submission\", {})\n",
        "        text = (submission.get(\"title\", \"\") + \" \" + submission.get(\"selftext\", \"\")).strip()\n",
        "        if text:\n",
        "            # Use raw text for classification; use minimally cleaned text for sentiment.\n",
        "            sentiment = get_sentiment(clean_for_sentiment(text))\n",
        "            try:\n",
        "                created_dt = datetime.strptime(submission.get(\"created_utc\", \"\"), '%Y-%m-%d %H:%M:%S')\n",
        "                created_date = created_dt.date()\n",
        "            except Exception:\n",
        "                created_date = None\n",
        "            record = {\n",
        "                \"id\": sub_id,\n",
        "                \"author\": submission.get(\"author\", None),\n",
        "                \"author_fullname\": submission.get(\"author_fullname\", None),\n",
        "                \"type\": \"submission\",\n",
        "                \"text\": text,\n",
        "                \"ideology\": None,  # to be filled below\n",
        "                \"sentiment\": sentiment,\n",
        "                \"created_date\": created_date,\n",
        "                \"score\": submission.get(\"score\", 0),\n",
        "                \"num_comments\": submission.get(\"num_comments\", 0),\n",
        "                \"upvote_ratio\": submission.get(\"upvote_ratio\", 0)\n",
        "            }\n",
        "            submissions.append(record)\n",
        "            batch_texts.append(text.strip())\n",
        "            batch_indices.append(len(submissions) - 1)\n",
        "\n",
        "    # Batched zero-shot classification for ideology.\n",
        "    nonempty_batch = [(t, idx) for t, idx in zip(batch_texts, batch_indices) if t.strip() != \"\"]\n",
        "    if nonempty_batch:\n",
        "        texts_to_classify, indices_to_update = zip(*nonempty_batch)\n",
        "        candidate_labels = [\"pro-Israeli\", \"pro-Palestinian\", \"neutral\"]\n",
        "        try:\n",
        "            results = zero_shot_classifier(list(texts_to_classify),\n",
        "                                           candidate_labels=candidate_labels,\n",
        "                                           batch_size=batch_size)\n",
        "        except Exception as e:\n",
        "            print(\"Ideology classification error:\", e)\n",
        "            results = [{\"labels\": [\"neutral\"]} for _ in range(len(texts_to_classify))]\n",
        "        for i, res in enumerate(results):\n",
        "            top_label = res['labels'][0] if res.get('labels') else \"neutral\"\n",
        "            submissions[indices_to_update[i]][\"ideology\"] = top_label\n",
        "\n",
        "    return submissions"
      ]
    },
    {
      "cell_type": "code",
      "execution_count": null,
      "metadata": {
        "id": "wsH5-U6CBm-L"
      },
      "outputs": [],
      "source": [
        "#########################\n",
        "# Process All Months (Saving Data After Each Month)\n",
        "#########################\n",
        "def process_all_months_submissions(data_dir, months, output_dir, drive_output_dir, save_each_month=True):\n",
        "    \"\"\"\n",
        "    Process all months, aggregating contributions.\n",
        "    For each month, if processed files already exist in drive_output_dir,\n",
        "    load them; otherwise, process and save.\n",
        "\n",
        "    Returns:\n",
        "      - all_contributions: List of processed submissions contributions across months.\n",
        "    \"\"\"\n",
        "    import shutil\n",
        "\n",
        "    all_contributions = []\n",
        "\n",
        "    for month_str in tqdm(months, desc=\"Processing months\"):\n",
        "        tqdm.write(f\"Processing month: {month_str}\")\n",
        "\n",
        "        # Define expected output file paths for this month in both local and Drive directories.\n",
        "        contrib_file_local = os.path.join(output_dir, f\"processed_contributions_{month_str}.json\")\n",
        "        contrib_file_drive = os.path.join(drive_output_dir, f\"processed_contributions_{month_str}.json\")\n",
        "\n",
        "        full_file = os.path.join(data_dir, f\"IsraelPalestine_{month_str}_full_data.json\")\n",
        "        if not os.path.exists(full_file):\n",
        "            print(f\"File not found: {full_file}\")\n",
        "            continue\n",
        "\n",
        "        # Check if processed files exist in drive\n",
        "        if os.path.exists(contrib_file_drive):\n",
        "            with open(contrib_file_drive, \"r\", encoding=\"utf-8\") as f:\n",
        "                contributions = json.load(f)\n",
        "            print(f\"Loaded processed data from Drive for month: {month_str}\")\n",
        "\n",
        "            # if file exsists load it to local\n",
        "            if not os.path.exists(contrib_file_local):\n",
        "                shutil.copy(contrib_file_drive, contrib_file_local)\n",
        "\n",
        "        # Process the month since no processed file exists.\n",
        "        else:\n",
        "\n",
        "            full_data = load_json(full_file)\n",
        "            contributions = process_submissions_month(month_str, data_dir)\n",
        "            print(f\"Processed data for month: {month_str}\")\n",
        "\n",
        "            # Now, save the updated graph and contributions to both local and Drive directories.\n",
        "            if save_each_month:\n",
        "                with open(contrib_file_local, \"w\", encoding=\"utf-8\") as f:\n",
        "                    json.dump(contributions, f, default=str, indent=2)\n",
        "\n",
        "                with open(contrib_file_drive, \"w\", encoding=\"utf-8\") as f:\n",
        "                    json.dump(contributions, f, default=str, indent=2)\n",
        "\n",
        "                print(f\"Updated and saved data for month: {month_str}\")\n",
        "\n",
        "        all_contributions.extend(contributions)\n",
        "\n",
        "    return all_contributions"
      ]
    },
    {
      "cell_type": "code",
      "execution_count": null,
      "metadata": {
        "colab": {
          "base_uri": "https://localhost:8080/"
        },
        "id": "GOSoWtqXB0nN",
        "outputId": "4e8bebf6-c98c-42e4-8cca-e3c9ed683caa"
      },
      "outputs": [
        {
          "name": "stderr",
          "output_type": "stream",
          "text": [
            "Processing months:   0%|          | 0/14 [00:00<?, ?it/s]"
          ]
        },
        {
          "name": "stdout",
          "output_type": "stream",
          "text": [
            "Processing month: 2023-09\n"
          ]
        },
        {
          "name": "stderr",
          "output_type": "stream",
          "text": [
            "Processing months:   7%|▋         | 1/14 [00:01<00:24,  1.85s/it]"
          ]
        },
        {
          "name": "stdout",
          "output_type": "stream",
          "text": [
            "Loaded processed data from Drive for month: 2023-09\n",
            "Processing month: 2023-10\n"
          ]
        },
        {
          "name": "stderr",
          "output_type": "stream",
          "text": [
            "Processing months:  14%|█▍        | 2/14 [00:02<00:15,  1.29s/it]"
          ]
        },
        {
          "name": "stdout",
          "output_type": "stream",
          "text": [
            "Loaded processed data from Drive for month: 2023-10\n",
            "Processing month: 2023-11\n"
          ]
        },
        {
          "name": "stderr",
          "output_type": "stream",
          "text": [
            "Processing months:  21%|██▏       | 3/14 [00:03<00:11,  1.06s/it]"
          ]
        },
        {
          "name": "stdout",
          "output_type": "stream",
          "text": [
            "Loaded processed data from Drive for month: 2023-11\n",
            "Processing month: 2023-12\n"
          ]
        },
        {
          "name": "stderr",
          "output_type": "stream",
          "text": [
            "Processing months:  29%|██▊       | 4/14 [00:04<00:08,  1.17it/s]"
          ]
        },
        {
          "name": "stdout",
          "output_type": "stream",
          "text": [
            "Loaded processed data from Drive for month: 2023-12\n",
            "Processing month: 2024-01\n"
          ]
        },
        {
          "name": "stderr",
          "output_type": "stream",
          "text": [
            "Processing months:  36%|███▌      | 5/14 [00:04<00:06,  1.33it/s]"
          ]
        },
        {
          "name": "stdout",
          "output_type": "stream",
          "text": [
            "Loaded processed data from Drive for month: 2024-01\n",
            "Processing month: 2024-02\n"
          ]
        },
        {
          "name": "stderr",
          "output_type": "stream",
          "text": [
            "Processing months:  43%|████▎     | 6/14 [00:05<00:05,  1.47it/s]"
          ]
        },
        {
          "name": "stdout",
          "output_type": "stream",
          "text": [
            "Loaded processed data from Drive for month: 2024-02\n",
            "Processing month: 2024-03\n"
          ]
        },
        {
          "name": "stderr",
          "output_type": "stream",
          "text": [
            "Processing months:  50%|█████     | 7/14 [00:05<00:04,  1.58it/s]"
          ]
        },
        {
          "name": "stdout",
          "output_type": "stream",
          "text": [
            "Loaded processed data from Drive for month: 2024-03\n",
            "Processing month: 2024-04\n"
          ]
        },
        {
          "name": "stderr",
          "output_type": "stream",
          "text": [
            "Processing months:  57%|█████▋    | 8/14 [00:06<00:03,  1.74it/s]"
          ]
        },
        {
          "name": "stdout",
          "output_type": "stream",
          "text": [
            "Loaded processed data from Drive for month: 2024-04\n",
            "Processing month: 2024-05\n"
          ]
        },
        {
          "name": "stderr",
          "output_type": "stream",
          "text": [
            "Processing months:  64%|██████▍   | 9/14 [00:06<00:02,  1.77it/s]"
          ]
        },
        {
          "name": "stdout",
          "output_type": "stream",
          "text": [
            "Loaded processed data from Drive for month: 2024-05\n",
            "Processing month: 2024-06\n"
          ]
        },
        {
          "name": "stderr",
          "output_type": "stream",
          "text": [
            "Processing months:  71%|███████▏  | 10/14 [00:07<00:02,  1.74it/s]"
          ]
        },
        {
          "name": "stdout",
          "output_type": "stream",
          "text": [
            "Loaded processed data from Drive for month: 2024-06\n",
            "Processing month: 2024-07\n"
          ]
        },
        {
          "name": "stderr",
          "output_type": "stream",
          "text": [
            "Processing months:  79%|███████▊  | 11/14 [00:07<00:01,  1.76it/s]"
          ]
        },
        {
          "name": "stdout",
          "output_type": "stream",
          "text": [
            "Loaded processed data from Drive for month: 2024-07\n",
            "Processing month: 2024-08\n"
          ]
        },
        {
          "name": "stderr",
          "output_type": "stream",
          "text": [
            "Processing months:  86%|████████▌ | 12/14 [00:08<00:01,  1.93it/s]"
          ]
        },
        {
          "name": "stdout",
          "output_type": "stream",
          "text": [
            "Loaded processed data from Drive for month: 2024-08\n",
            "Processing month: 2024-09\n"
          ]
        },
        {
          "name": "stderr",
          "output_type": "stream",
          "text": [
            "Processing months:  93%|█████████▎| 13/14 [00:08<00:00,  1.95it/s]"
          ]
        },
        {
          "name": "stdout",
          "output_type": "stream",
          "text": [
            "Loaded processed data from Drive for month: 2024-09\n",
            "Processing month: 2024-10\n"
          ]
        },
        {
          "name": "stderr",
          "output_type": "stream",
          "text": [
            "Processing months: 100%|██████████| 14/14 [00:09<00:00,  1.52it/s]"
          ]
        },
        {
          "name": "stdout",
          "output_type": "stream",
          "text": [
            "Loaded processed data from Drive for month: 2024-10\n"
          ]
        },
        {
          "name": "stderr",
          "output_type": "stream",
          "text": [
            "\n"
          ]
        }
      ],
      "source": [
        "# Process all months and save each month's data separately (or load if already processed).\n",
        "all_contributions  =  process_all_months_submissions(data_dir, months, output_dir, drive_output_dir, save_each_month=True)"
      ]
    },
    {
      "cell_type": "code",
      "execution_count": null,
      "metadata": {
        "id": "OortR3zsBhUz"
      },
      "outputs": [],
      "source": [
        "# Save the aggregated processed contributions to drive.\n",
        "with open(os.path.join(drive_output_dir, \"processed_contributions.json\"), \"w\", encoding=\"utf-8\") as f:\n",
        "    json.dump(all_contributions, f, default=str, indent=2)\n",
        "\n",
        "# Also, create a pandas DataFrame and save as CSV.\n",
        "df = pd.DataFrame(all_contributions)\n",
        "df.to_csv(os.path.join(drive_output_dir, \"processed_contributions.csv\"), index=False)"
      ]
    },
    {
      "cell_type": "markdown",
      "metadata": {
        "id": "M9Q3q_H4AH6O"
      },
      "source": [
        "# Process Monthly Social Networks"
      ]
    },
    {
      "cell_type": "code",
      "execution_count": null,
      "metadata": {
        "id": "WejLwJYK1tAi"
      },
      "outputs": [],
      "source": [
        "def build_social_network_from_user_stats(month_str, drive_dir, batch_size=32):\n",
        "    \"\"\"\n",
        "    Build a social network graph for a month using preprocessed user statistics\n",
        "    and user activity files from drive_dir.\n",
        "\n",
        "    Expected files (for example):\n",
        "      - IsraelPalestine_{month_str}_user_stats.json\n",
        "      - IsraelPalestine_{month_str}_user_activity.json\n",
        "\n",
        "    For each user, the function aggregates all texts (from submissions and comments)\n",
        "    into one aggregated string, computes overall sentiment, and classifies the overall\n",
        "    ideology using batched zero-shot classification with candidate labels:\n",
        "         [\"pro-Israeli\", \"pro-Palestinian\", \"neutral\"]\n",
        "\n",
        "    Node attributes for each user will include:\n",
        "      - avg_sentiment: The overall sentiment score computed on aggregated text.\n",
        "      - ideology: The predicted ideology from zero-shot classification.\n",
        "      - total_submissions: As given in the user stats.\n",
        "      - total_comments: As given in the user stats.\n",
        "\n",
        "    Edges are created between users if one commented on another’s submission.\n",
        "    (This code assumes that in the user activity file, each submission record includes a\n",
        "     list \"comment_authors\" with the usernames of those who commented on that submission.)\n",
        "\n",
        "    Returns:\n",
        "      - G: The social network graph for the month.\n",
        "    \"\"\"\n",
        "    # Construct file paths:\n",
        "    stats_file = os.path.join(drive_dir, f\"IsraelPalestine_{month_str}_user_stats.json\")\n",
        "    activity_file = os.path.join(drive_dir, f\"IsraelPalestine_{month_str}_user_activity.json\")\n",
        "\n",
        "    if not os.path.exists(stats_file) or not os.path.exists(activity_file):\n",
        "        print(f\"User stats or activity file not found for month: {month_str}\")\n",
        "        return None\n",
        "\n",
        "    user_stats = load_json(stats_file)\n",
        "    user_activity = load_json(activity_file)\n",
        "\n",
        "    # Initialize the graph with nodes from user_stats.\n",
        "    G = nx.Graph()\n",
        "    for user, stats in user_stats.items():\n",
        "        G.add_node(user,\n",
        "                   total_submissions=stats.get(\"total_submissions\", 0),\n",
        "                   total_comments=stats.get(\"total_comments\", 0),\n",
        "                   avg_sentiment=None,\n",
        "                   ideology=None)\n",
        "\n",
        "    # Aggregate texts per user from user_activity.\n",
        "    aggregated_text = {}\n",
        "    for user, activities in user_activity.items():\n",
        "        texts = []\n",
        "        for sub in activities.get(\"submissions\", []):\n",
        "            # Combine title and selftext if available.\n",
        "            title = sub.get(\"title\", \"\")\n",
        "            selftext = sub.get(\"selftext\", \"\")\n",
        "            combined = (title + \" \" + selftext).strip()\n",
        "            if combined:\n",
        "                texts.append(combined)\n",
        "        for comm in activities.get(\"comments\", []):\n",
        "            body = comm.get(\"body\", \"\")\n",
        "            if body:\n",
        "                texts.append(body.strip())\n",
        "        if texts:\n",
        "            aggregated_text[user] = \" \".join(texts)\n",
        "\n",
        "    # Compute overall sentiment for each user.\n",
        "    user_sentiments = {}\n",
        "    for user, text in aggregated_text.items():\n",
        "        cleaned = clean_for_sentiment(text)\n",
        "        user_sentiments[user] = get_sentiment(cleaned)\n",
        "\n",
        "    # Batched zero-shot classification for ideology using aggregated texts.\n",
        "    candidate_labels = [\"pro-Israeli\", \"pro-Palestinian\", \"neutral\"]\n",
        "    user_list = []\n",
        "    texts_list = []\n",
        "    for user, text in aggregated_text.items():\n",
        "        if text.strip():\n",
        "            user_list.append(user)\n",
        "            texts_list.append(text.strip())\n",
        "    user_ideology = {}\n",
        "\n",
        "    if texts_list:\n",
        "        try:\n",
        "            results = zero_shot_classifier(texts_list, candidate_labels=candidate_labels, batch_size=batch_size)\n",
        "        except Exception as e:\n",
        "            print(\"Zero-shot classification error on aggregated texts:\", e)\n",
        "            results = [{\"labels\": [\"neutral\"]} for _ in texts_list]\n",
        "        for i, res in enumerate(results):\n",
        "            predicted = res.get(\"labels\", [\"neutral\"])[0]\n",
        "            user_ideology[user_list[i]] = predicted\n",
        "\n",
        "    # Update node attributes with aggregated sentiment and ideology.\n",
        "    for user in G.nodes():\n",
        "        G.nodes[user][\"avg_sentiment\"] = user_sentiments.get(user, 0)\n",
        "        G.nodes[user][\"ideology\"] = user_ideology.get(user, \"neutral\")\n",
        "\n",
        "    # Build edges based on interactions.\n",
        "    # For each submission in user_activity, assume it includes a list \"comment_authors\".\n",
        "    for user, activities in user_activity.items():\n",
        "        for sub in activities.get(\"submissions\", []):\n",
        "            comment_authors = sub.get(\"comment_authors\", [])\n",
        "            for commenter in comment_authors:\n",
        "                if commenter != user:\n",
        "                    if G.has_edge(user, commenter):\n",
        "                        G[user][commenter][\"weight\"] += 1\n",
        "                    else:\n",
        "                        G.add_edge(user, commenter, weight=1)\n",
        "\n",
        "    return G"
      ]
    },
    {
      "cell_type": "code",
      "execution_count": null,
      "metadata": {
        "id": "FlFrxUMMEkCn"
      },
      "outputs": [],
      "source": [
        "#########################\n",
        "# Process All Months (Saving Data After Each Month)\n",
        "#########################\n",
        "def process_all_months_networks(data_dir, months, output_dir, drive_output_dir, save_each_month=True):\n",
        "    \"\"\"\n",
        "    Process all months, building monthly social networks.\n",
        "    For each month, if processed files already exist in drive_output_dir,\n",
        "    load them; otherwise, process and save.\n",
        "\n",
        "    Returns:\n",
        "      - monthly_networks: Dictionary mapping month_str -> updated social network graph.\n",
        "    \"\"\"\n",
        "\n",
        "    monthly_networks = {}\n",
        "\n",
        "    for month_str in tqdm(months, desc=\"Processing months\"):\n",
        "        tqdm.write(f\"Processing month: {month_str}\")\n",
        "\n",
        "        # Define expected output file paths for this month in both local and Drive directories.\n",
        "        network_file_local = os.path.join(output_dir, f\"social_network_{month_str}.gpickle\")\n",
        "        network_file_drive = os.path.join(drive_output_dir, f\"social_network_{month_str}.gpickle\")\n",
        "\n",
        "\n",
        "        # Check if processed files exist in drive\n",
        "        if os.path.exists(network_file_drive):\n",
        "            with open(network_file_drive, \"rb\") as f:\n",
        "                G = pickle.load(f)\n",
        "            print(f\"Loaded processed data from Drive for month: {month_str}\")\n",
        "\n",
        "            # if file exsists load it to local\n",
        "            if not os.path.exists(network_file_local):\n",
        "                shutil.copy(network_file_drive, network_file_local)\n",
        "\n",
        "        # Process the month since no processed file exists.\n",
        "        else:\n",
        "            G= build_social_network_from_user_stats(month_str, data_dir, batch_size=32)\n",
        "            # update_graph_node_attributes(G, contributions)\n",
        "            print(f\"Processed data for month: {month_str}\")\n",
        "\n",
        "            # Now, save the updated graph and contributions to both local and Drive directories.\n",
        "            if save_each_month:\n",
        "                with open(network_file_local, \"wb\") as f:\n",
        "                    pickle.dump(G, f)\n",
        "\n",
        "                with open(network_file_drive, \"wb\") as f:\n",
        "                    pickle.dump(G, f)\n",
        "                print(f\"Updated and saved data for month: {month_str}\")\n",
        "\n",
        "        monthly_networks[month_str] = G\n",
        "\n",
        "    return monthly_networks"
      ]
    },
    {
      "cell_type": "code",
      "execution_count": null,
      "metadata": {
        "colab": {
          "base_uri": "https://localhost:8080/"
        },
        "id": "HorHfJi1I8X8",
        "outputId": "128d8849-259a-4f1e-ff53-ffc1d850f049"
      },
      "outputs": [
        {
          "metadata": {
            "tags": null
          },
          "name": "stderr",
          "output_type": "stream",
          "text": [
            "Processing months:   0%|          | 0/14 [00:00<?, ?it/s]"
          ]
        },
        {
          "metadata": {
            "tags": null
          },
          "name": "stdout",
          "output_type": "stream",
          "text": [
            "Processing month: 2023-09\n"
          ]
        },
        {
          "metadata": {
            "tags": null
          },
          "name": "stderr",
          "output_type": "stream",
          "text": [
            "Processing months:   7%|▋         | 1/14 [00:01<00:16,  1.29s/it]"
          ]
        },
        {
          "metadata": {
            "tags": null
          },
          "name": "stdout",
          "output_type": "stream",
          "text": [
            "Loaded processed data from Drive for month: 2023-09\n",
            "Processing month: 2023-10\n"
          ]
        },
        {
          "metadata": {
            "tags": null
          },
          "name": "stderr",
          "output_type": "stream",
          "text": [
            "Processing months:  14%|█▍        | 2/14 [00:02<00:13,  1.11s/it]"
          ]
        },
        {
          "metadata": {
            "tags": null
          },
          "name": "stdout",
          "output_type": "stream",
          "text": [
            "Loaded processed data from Drive for month: 2023-10\n",
            "Processing month: 2023-11\n"
          ]
        },
        {
          "metadata": {
            "tags": null
          },
          "name": "stderr",
          "output_type": "stream",
          "text": [
            "Processing months:  21%|██▏       | 3/14 [00:03<00:10,  1.00it/s]"
          ]
        },
        {
          "metadata": {
            "tags": null
          },
          "name": "stdout",
          "output_type": "stream",
          "text": [
            "Loaded processed data from Drive for month: 2023-11\n",
            "Processing month: 2023-12\n"
          ]
        },
        {
          "metadata": {
            "tags": null
          },
          "name": "stderr",
          "output_type": "stream",
          "text": [
            "Processing months:  29%|██▊       | 4/14 [2:04:01<8:09:32, 2937.25s/it]"
          ]
        },
        {
          "metadata": {
            "tags": null
          },
          "name": "stdout",
          "output_type": "stream",
          "text": [
            "Processed data for month: 2023-12\n",
            "Updated and saved data for month: 2023-12\n",
            "Processing month: 2024-01\n"
          ]
        },
        {
          "metadata": {
            "tags": null
          },
          "name": "stderr",
          "output_type": "stream",
          "text": [
            "Processing months:  36%|███▌      | 5/14 [3:24:59<9:04:27, 3629.74s/it]"
          ]
        },
        {
          "metadata": {
            "tags": null
          },
          "name": "stdout",
          "output_type": "stream",
          "text": [
            "Processed data for month: 2024-01\n",
            "Updated and saved data for month: 2024-01\n",
            "Processing month: 2024-02\n"
          ]
        },
        {
          "metadata": {
            "tags": null
          },
          "name": "stderr",
          "output_type": "stream",
          "text": [
            "Processing months:  43%|████▎     | 6/14 [4:35:54<8:32:18, 3842.26s/it]"
          ]
        },
        {
          "metadata": {
            "tags": null
          },
          "name": "stdout",
          "output_type": "stream",
          "text": [
            "Processed data for month: 2024-02\n",
            "Updated and saved data for month: 2024-02\n",
            "Processing month: 2024-03\n"
          ]
        },
        {
          "metadata": {
            "tags": null
          },
          "name": "stderr",
          "output_type": "stream",
          "text": [
            "Processing months:  50%|█████     | 7/14 [5:50:17<7:51:56, 4045.20s/it]"
          ]
        },
        {
          "metadata": {
            "tags": null
          },
          "name": "stdout",
          "output_type": "stream",
          "text": [
            "Processed data for month: 2024-03\n",
            "Updated and saved data for month: 2024-03\n",
            "Processing month: 2024-04\n"
          ]
        },
        {
          "metadata": {
            "tags": null
          },
          "name": "stderr",
          "output_type": "stream",
          "text": [
            "Processing months:  57%|█████▋    | 8/14 [7:08:28<7:05:04, 4250.80s/it]"
          ]
        },
        {
          "metadata": {
            "tags": null
          },
          "name": "stdout",
          "output_type": "stream",
          "text": [
            "Processed data for month: 2024-04\n",
            "Updated and saved data for month: 2024-04\n",
            "Processing month: 2024-05\n"
          ]
        },
        {
          "metadata": {
            "tags": null
          },
          "name": "stderr",
          "output_type": "stream",
          "text": [
            "Processing months:  64%|██████▍   | 9/14 [8:33:32<6:16:28, 4517.75s/it]"
          ]
        },
        {
          "metadata": {
            "tags": null
          },
          "name": "stdout",
          "output_type": "stream",
          "text": [
            "Processed data for month: 2024-05\n",
            "Updated and saved data for month: 2024-05\n",
            "Processing month: 2024-06\n"
          ]
        },
        {
          "metadata": {
            "tags": null
          },
          "name": "stderr",
          "output_type": "stream",
          "text": [
            "Processing months:  71%|███████▏  | 10/14 [9:38:52<4:48:52, 4333.16s/it]"
          ]
        },
        {
          "metadata": {
            "tags": null
          },
          "name": "stdout",
          "output_type": "stream",
          "text": [
            "Processed data for month: 2024-06\n",
            "Updated and saved data for month: 2024-06\n",
            "Processing month: 2024-07\n"
          ]
        },
        {
          "metadata": {
            "tags": null
          },
          "name": "stderr",
          "output_type": "stream",
          "text": [
            "Processing months:  79%|███████▊  | 11/14 [10:29:40<3:16:59, 3939.82s/it]"
          ]
        },
        {
          "metadata": {
            "tags": null
          },
          "name": "stdout",
          "output_type": "stream",
          "text": [
            "Processed data for month: 2024-07\n",
            "Updated and saved data for month: 2024-07\n",
            "Processing month: 2024-08\n"
          ]
        },
        {
          "metadata": {
            "tags": null
          },
          "name": "stderr",
          "output_type": "stream",
          "text": [
            "Processing months:  86%|████████▌ | 12/14 [11:22:44<2:03:39, 3709.80s/it]"
          ]
        },
        {
          "metadata": {
            "tags": null
          },
          "name": "stdout",
          "output_type": "stream",
          "text": [
            "Processed data for month: 2024-08\n",
            "Updated and saved data for month: 2024-08\n",
            "Processing month: 2024-09\n"
          ]
        },
        {
          "output_type": "stream",
          "name": "stderr",
          "text": [
            "You seem to be using the pipelines sequentially on GPU. In order to maximize efficiency please use a dataset\n",
            "Processing months:  93%|█████████▎| 13/14 [12:23:45<1:01:35, 3695.17s/it]"
          ]
        },
        {
          "output_type": "stream",
          "name": "stdout",
          "text": [
            "Processed data for month: 2024-09\n",
            "Updated and saved data for month: 2024-09\n",
            "Processing month: 2024-10\n"
          ]
        },
        {
          "output_type": "stream",
          "name": "stderr",
          "text": [
            "Processing months: 100%|██████████| 14/14 [13:34:05<00:00, 3489.00s/it]"
          ]
        },
        {
          "output_type": "stream",
          "name": "stdout",
          "text": [
            "Processed data for month: 2024-10\n",
            "Updated and saved data for month: 2024-10\n"
          ]
        },
        {
          "output_type": "stream",
          "name": "stderr",
          "text": [
            "\n"
          ]
        }
      ],
      "source": [
        "# Process all months and save each month's data separately (or load if already processed).\n",
        "monthly_networks  =  process_all_months_networks(data_dir, months, output_dir, drive_output_dir, save_each_month=True)"
      ]
    },
    {
      "cell_type": "code",
      "execution_count": null,
      "metadata": {
        "id": "sdw6fyMyJL2t"
      },
      "outputs": [],
      "source": [
        "# Save the aggregated monthly networks (if desired, they are already saved per month)\n",
        "for month, G in monthly_networks.items():\n",
        "    nx.write_gpickle(G, os.path.join(output_dir, f\"social_network_{month}.gpickle\"))"
      ]
    },
    {
      "cell_type": "code",
      "execution_count": null,
      "metadata": {
        "id": "BWFDuZOUJQcy"
      },
      "outputs": [],
      "source": [
        "print(\"Preprocessing complete. Processed contributions & monthly networks are saved in the 'time_sires_analysis' folder and ready for further analysis.\")"
      ]
    }
  ],
  "metadata": {
    "accelerator": "GPU",
    "colab": {
      "collapsed_sections": [
        "5GN0yBnBcj7q"
      ],
      "gpuType": "T4",
      "machine_shape": "hm",
      "provenance": []
    },
    "kernelspec": {
      "display_name": "Python 3",
      "name": "python3"
    },
    "language_info": {
      "name": "python"
    },
    "widgets": {
      "application/vnd.jupyter.widget-state+json": {
        "7e1d3348ea7942bab2f0b7a6fa205825": {
          "model_module": "@jupyter-widgets/controls",
          "model_name": "HBoxModel",
          "model_module_version": "1.5.0",
          "state": {
            "_dom_classes": [],
            "_model_module": "@jupyter-widgets/controls",
            "_model_module_version": "1.5.0",
            "_model_name": "HBoxModel",
            "_view_count": null,
            "_view_module": "@jupyter-widgets/controls",
            "_view_module_version": "1.5.0",
            "_view_name": "HBoxView",
            "box_style": "",
            "children": [
              "IPY_MODEL_a6ac636e2004463699f7baf6240c212e",
              "IPY_MODEL_040f1501c0784562b7954ed6ceab7e8d",
              "IPY_MODEL_d969d62523a84abab512f2b6d77415e7"
            ],
            "layout": "IPY_MODEL_cd91169901ac41ea885898dd46dfbe78"
          }
        },
        "a6ac636e2004463699f7baf6240c212e": {
          "model_module": "@jupyter-widgets/controls",
          "model_name": "HTMLModel",
          "model_module_version": "1.5.0",
          "state": {
            "_dom_classes": [],
            "_model_module": "@jupyter-widgets/controls",
            "_model_module_version": "1.5.0",
            "_model_name": "HTMLModel",
            "_view_count": null,
            "_view_module": "@jupyter-widgets/controls",
            "_view_module_version": "1.5.0",
            "_view_name": "HTMLView",
            "description": "",
            "description_tooltip": null,
            "layout": "IPY_MODEL_01273b75387941449612cb5a38cbae75",
            "placeholder": "​",
            "style": "IPY_MODEL_933feffc8653466d8cabd22589f29a10",
            "value": "config.json: 100%"
          }
        },
        "040f1501c0784562b7954ed6ceab7e8d": {
          "model_module": "@jupyter-widgets/controls",
          "model_name": "FloatProgressModel",
          "model_module_version": "1.5.0",
          "state": {
            "_dom_classes": [],
            "_model_module": "@jupyter-widgets/controls",
            "_model_module_version": "1.5.0",
            "_model_name": "FloatProgressModel",
            "_view_count": null,
            "_view_module": "@jupyter-widgets/controls",
            "_view_module_version": "1.5.0",
            "_view_name": "ProgressView",
            "bar_style": "success",
            "description": "",
            "description_tooltip": null,
            "layout": "IPY_MODEL_5ba89dce8bbd4cc08fadbad0339bfd89",
            "max": 1154,
            "min": 0,
            "orientation": "horizontal",
            "style": "IPY_MODEL_93da846d7db445ad9205f903c205e53a",
            "value": 1154
          }
        },
        "d969d62523a84abab512f2b6d77415e7": {
          "model_module": "@jupyter-widgets/controls",
          "model_name": "HTMLModel",
          "model_module_version": "1.5.0",
          "state": {
            "_dom_classes": [],
            "_model_module": "@jupyter-widgets/controls",
            "_model_module_version": "1.5.0",
            "_model_name": "HTMLModel",
            "_view_count": null,
            "_view_module": "@jupyter-widgets/controls",
            "_view_module_version": "1.5.0",
            "_view_name": "HTMLView",
            "description": "",
            "description_tooltip": null,
            "layout": "IPY_MODEL_2aef78cbe42f4e2ea421b1d0748d4539",
            "placeholder": "​",
            "style": "IPY_MODEL_fd1f4f72263940eda9b9ead7e2b74f77",
            "value": " 1.15k/1.15k [00:00&lt;00:00, 135kB/s]"
          }
        },
        "cd91169901ac41ea885898dd46dfbe78": {
          "model_module": "@jupyter-widgets/base",
          "model_name": "LayoutModel",
          "model_module_version": "1.2.0",
          "state": {
            "_model_module": "@jupyter-widgets/base",
            "_model_module_version": "1.2.0",
            "_model_name": "LayoutModel",
            "_view_count": null,
            "_view_module": "@jupyter-widgets/base",
            "_view_module_version": "1.2.0",
            "_view_name": "LayoutView",
            "align_content": null,
            "align_items": null,
            "align_self": null,
            "border": null,
            "bottom": null,
            "display": null,
            "flex": null,
            "flex_flow": null,
            "grid_area": null,
            "grid_auto_columns": null,
            "grid_auto_flow": null,
            "grid_auto_rows": null,
            "grid_column": null,
            "grid_gap": null,
            "grid_row": null,
            "grid_template_areas": null,
            "grid_template_columns": null,
            "grid_template_rows": null,
            "height": null,
            "justify_content": null,
            "justify_items": null,
            "left": null,
            "margin": null,
            "max_height": null,
            "max_width": null,
            "min_height": null,
            "min_width": null,
            "object_fit": null,
            "object_position": null,
            "order": null,
            "overflow": null,
            "overflow_x": null,
            "overflow_y": null,
            "padding": null,
            "right": null,
            "top": null,
            "visibility": null,
            "width": null
          }
        },
        "01273b75387941449612cb5a38cbae75": {
          "model_module": "@jupyter-widgets/base",
          "model_name": "LayoutModel",
          "model_module_version": "1.2.0",
          "state": {
            "_model_module": "@jupyter-widgets/base",
            "_model_module_version": "1.2.0",
            "_model_name": "LayoutModel",
            "_view_count": null,
            "_view_module": "@jupyter-widgets/base",
            "_view_module_version": "1.2.0",
            "_view_name": "LayoutView",
            "align_content": null,
            "align_items": null,
            "align_self": null,
            "border": null,
            "bottom": null,
            "display": null,
            "flex": null,
            "flex_flow": null,
            "grid_area": null,
            "grid_auto_columns": null,
            "grid_auto_flow": null,
            "grid_auto_rows": null,
            "grid_column": null,
            "grid_gap": null,
            "grid_row": null,
            "grid_template_areas": null,
            "grid_template_columns": null,
            "grid_template_rows": null,
            "height": null,
            "justify_content": null,
            "justify_items": null,
            "left": null,
            "margin": null,
            "max_height": null,
            "max_width": null,
            "min_height": null,
            "min_width": null,
            "object_fit": null,
            "object_position": null,
            "order": null,
            "overflow": null,
            "overflow_x": null,
            "overflow_y": null,
            "padding": null,
            "right": null,
            "top": null,
            "visibility": null,
            "width": null
          }
        },
        "933feffc8653466d8cabd22589f29a10": {
          "model_module": "@jupyter-widgets/controls",
          "model_name": "DescriptionStyleModel",
          "model_module_version": "1.5.0",
          "state": {
            "_model_module": "@jupyter-widgets/controls",
            "_model_module_version": "1.5.0",
            "_model_name": "DescriptionStyleModel",
            "_view_count": null,
            "_view_module": "@jupyter-widgets/base",
            "_view_module_version": "1.2.0",
            "_view_name": "StyleView",
            "description_width": ""
          }
        },
        "5ba89dce8bbd4cc08fadbad0339bfd89": {
          "model_module": "@jupyter-widgets/base",
          "model_name": "LayoutModel",
          "model_module_version": "1.2.0",
          "state": {
            "_model_module": "@jupyter-widgets/base",
            "_model_module_version": "1.2.0",
            "_model_name": "LayoutModel",
            "_view_count": null,
            "_view_module": "@jupyter-widgets/base",
            "_view_module_version": "1.2.0",
            "_view_name": "LayoutView",
            "align_content": null,
            "align_items": null,
            "align_self": null,
            "border": null,
            "bottom": null,
            "display": null,
            "flex": null,
            "flex_flow": null,
            "grid_area": null,
            "grid_auto_columns": null,
            "grid_auto_flow": null,
            "grid_auto_rows": null,
            "grid_column": null,
            "grid_gap": null,
            "grid_row": null,
            "grid_template_areas": null,
            "grid_template_columns": null,
            "grid_template_rows": null,
            "height": null,
            "justify_content": null,
            "justify_items": null,
            "left": null,
            "margin": null,
            "max_height": null,
            "max_width": null,
            "min_height": null,
            "min_width": null,
            "object_fit": null,
            "object_position": null,
            "order": null,
            "overflow": null,
            "overflow_x": null,
            "overflow_y": null,
            "padding": null,
            "right": null,
            "top": null,
            "visibility": null,
            "width": null
          }
        },
        "93da846d7db445ad9205f903c205e53a": {
          "model_module": "@jupyter-widgets/controls",
          "model_name": "ProgressStyleModel",
          "model_module_version": "1.5.0",
          "state": {
            "_model_module": "@jupyter-widgets/controls",
            "_model_module_version": "1.5.0",
            "_model_name": "ProgressStyleModel",
            "_view_count": null,
            "_view_module": "@jupyter-widgets/base",
            "_view_module_version": "1.2.0",
            "_view_name": "StyleView",
            "bar_color": null,
            "description_width": ""
          }
        },
        "2aef78cbe42f4e2ea421b1d0748d4539": {
          "model_module": "@jupyter-widgets/base",
          "model_name": "LayoutModel",
          "model_module_version": "1.2.0",
          "state": {
            "_model_module": "@jupyter-widgets/base",
            "_model_module_version": "1.2.0",
            "_model_name": "LayoutModel",
            "_view_count": null,
            "_view_module": "@jupyter-widgets/base",
            "_view_module_version": "1.2.0",
            "_view_name": "LayoutView",
            "align_content": null,
            "align_items": null,
            "align_self": null,
            "border": null,
            "bottom": null,
            "display": null,
            "flex": null,
            "flex_flow": null,
            "grid_area": null,
            "grid_auto_columns": null,
            "grid_auto_flow": null,
            "grid_auto_rows": null,
            "grid_column": null,
            "grid_gap": null,
            "grid_row": null,
            "grid_template_areas": null,
            "grid_template_columns": null,
            "grid_template_rows": null,
            "height": null,
            "justify_content": null,
            "justify_items": null,
            "left": null,
            "margin": null,
            "max_height": null,
            "max_width": null,
            "min_height": null,
            "min_width": null,
            "object_fit": null,
            "object_position": null,
            "order": null,
            "overflow": null,
            "overflow_x": null,
            "overflow_y": null,
            "padding": null,
            "right": null,
            "top": null,
            "visibility": null,
            "width": null
          }
        },
        "fd1f4f72263940eda9b9ead7e2b74f77": {
          "model_module": "@jupyter-widgets/controls",
          "model_name": "DescriptionStyleModel",
          "model_module_version": "1.5.0",
          "state": {
            "_model_module": "@jupyter-widgets/controls",
            "_model_module_version": "1.5.0",
            "_model_name": "DescriptionStyleModel",
            "_view_count": null,
            "_view_module": "@jupyter-widgets/base",
            "_view_module_version": "1.2.0",
            "_view_name": "StyleView",
            "description_width": ""
          }
        },
        "996b2092643f4845902e8642b0702a9d": {
          "model_module": "@jupyter-widgets/controls",
          "model_name": "HBoxModel",
          "model_module_version": "1.5.0",
          "state": {
            "_dom_classes": [],
            "_model_module": "@jupyter-widgets/controls",
            "_model_module_version": "1.5.0",
            "_model_name": "HBoxModel",
            "_view_count": null,
            "_view_module": "@jupyter-widgets/controls",
            "_view_module_version": "1.5.0",
            "_view_name": "HBoxView",
            "box_style": "",
            "children": [
              "IPY_MODEL_062e9fccb9f145d39815483aafee814c",
              "IPY_MODEL_f35c044646dc4397808a346c5df7b6ab",
              "IPY_MODEL_66ba4720e9b343dfaa042e1adb702586"
            ],
            "layout": "IPY_MODEL_91f14faf82f34e8faed993c92c5ace7a"
          }
        },
        "062e9fccb9f145d39815483aafee814c": {
          "model_module": "@jupyter-widgets/controls",
          "model_name": "HTMLModel",
          "model_module_version": "1.5.0",
          "state": {
            "_dom_classes": [],
            "_model_module": "@jupyter-widgets/controls",
            "_model_module_version": "1.5.0",
            "_model_name": "HTMLModel",
            "_view_count": null,
            "_view_module": "@jupyter-widgets/controls",
            "_view_module_version": "1.5.0",
            "_view_name": "HTMLView",
            "description": "",
            "description_tooltip": null,
            "layout": "IPY_MODEL_8926dff2466349319d498b1ef1efd2fb",
            "placeholder": "​",
            "style": "IPY_MODEL_9e0c768eb12b409d9348c201c058d1b2",
            "value": "model.safetensors: 100%"
          }
        },
        "f35c044646dc4397808a346c5df7b6ab": {
          "model_module": "@jupyter-widgets/controls",
          "model_name": "FloatProgressModel",
          "model_module_version": "1.5.0",
          "state": {
            "_dom_classes": [],
            "_model_module": "@jupyter-widgets/controls",
            "_model_module_version": "1.5.0",
            "_model_name": "FloatProgressModel",
            "_view_count": null,
            "_view_module": "@jupyter-widgets/controls",
            "_view_module_version": "1.5.0",
            "_view_name": "ProgressView",
            "bar_style": "success",
            "description": "",
            "description_tooltip": null,
            "layout": "IPY_MODEL_bdd36a24a4604789ac18038db3fb1055",
            "max": 1629437147,
            "min": 0,
            "orientation": "horizontal",
            "style": "IPY_MODEL_85c9b73c8a0243029b62cfedf78db9d7",
            "value": 1629437147
          }
        },
        "66ba4720e9b343dfaa042e1adb702586": {
          "model_module": "@jupyter-widgets/controls",
          "model_name": "HTMLModel",
          "model_module_version": "1.5.0",
          "state": {
            "_dom_classes": [],
            "_model_module": "@jupyter-widgets/controls",
            "_model_module_version": "1.5.0",
            "_model_name": "HTMLModel",
            "_view_count": null,
            "_view_module": "@jupyter-widgets/controls",
            "_view_module_version": "1.5.0",
            "_view_name": "HTMLView",
            "description": "",
            "description_tooltip": null,
            "layout": "IPY_MODEL_88582be19cda4000872a327033fa2673",
            "placeholder": "​",
            "style": "IPY_MODEL_bcd60bf338aa4e8db1228269b4f77015",
            "value": " 1.63G/1.63G [00:04&lt;00:00, 290MB/s]"
          }
        },
        "91f14faf82f34e8faed993c92c5ace7a": {
          "model_module": "@jupyter-widgets/base",
          "model_name": "LayoutModel",
          "model_module_version": "1.2.0",
          "state": {
            "_model_module": "@jupyter-widgets/base",
            "_model_module_version": "1.2.0",
            "_model_name": "LayoutModel",
            "_view_count": null,
            "_view_module": "@jupyter-widgets/base",
            "_view_module_version": "1.2.0",
            "_view_name": "LayoutView",
            "align_content": null,
            "align_items": null,
            "align_self": null,
            "border": null,
            "bottom": null,
            "display": null,
            "flex": null,
            "flex_flow": null,
            "grid_area": null,
            "grid_auto_columns": null,
            "grid_auto_flow": null,
            "grid_auto_rows": null,
            "grid_column": null,
            "grid_gap": null,
            "grid_row": null,
            "grid_template_areas": null,
            "grid_template_columns": null,
            "grid_template_rows": null,
            "height": null,
            "justify_content": null,
            "justify_items": null,
            "left": null,
            "margin": null,
            "max_height": null,
            "max_width": null,
            "min_height": null,
            "min_width": null,
            "object_fit": null,
            "object_position": null,
            "order": null,
            "overflow": null,
            "overflow_x": null,
            "overflow_y": null,
            "padding": null,
            "right": null,
            "top": null,
            "visibility": null,
            "width": null
          }
        },
        "8926dff2466349319d498b1ef1efd2fb": {
          "model_module": "@jupyter-widgets/base",
          "model_name": "LayoutModel",
          "model_module_version": "1.2.0",
          "state": {
            "_model_module": "@jupyter-widgets/base",
            "_model_module_version": "1.2.0",
            "_model_name": "LayoutModel",
            "_view_count": null,
            "_view_module": "@jupyter-widgets/base",
            "_view_module_version": "1.2.0",
            "_view_name": "LayoutView",
            "align_content": null,
            "align_items": null,
            "align_self": null,
            "border": null,
            "bottom": null,
            "display": null,
            "flex": null,
            "flex_flow": null,
            "grid_area": null,
            "grid_auto_columns": null,
            "grid_auto_flow": null,
            "grid_auto_rows": null,
            "grid_column": null,
            "grid_gap": null,
            "grid_row": null,
            "grid_template_areas": null,
            "grid_template_columns": null,
            "grid_template_rows": null,
            "height": null,
            "justify_content": null,
            "justify_items": null,
            "left": null,
            "margin": null,
            "max_height": null,
            "max_width": null,
            "min_height": null,
            "min_width": null,
            "object_fit": null,
            "object_position": null,
            "order": null,
            "overflow": null,
            "overflow_x": null,
            "overflow_y": null,
            "padding": null,
            "right": null,
            "top": null,
            "visibility": null,
            "width": null
          }
        },
        "9e0c768eb12b409d9348c201c058d1b2": {
          "model_module": "@jupyter-widgets/controls",
          "model_name": "DescriptionStyleModel",
          "model_module_version": "1.5.0",
          "state": {
            "_model_module": "@jupyter-widgets/controls",
            "_model_module_version": "1.5.0",
            "_model_name": "DescriptionStyleModel",
            "_view_count": null,
            "_view_module": "@jupyter-widgets/base",
            "_view_module_version": "1.2.0",
            "_view_name": "StyleView",
            "description_width": ""
          }
        },
        "bdd36a24a4604789ac18038db3fb1055": {
          "model_module": "@jupyter-widgets/base",
          "model_name": "LayoutModel",
          "model_module_version": "1.2.0",
          "state": {
            "_model_module": "@jupyter-widgets/base",
            "_model_module_version": "1.2.0",
            "_model_name": "LayoutModel",
            "_view_count": null,
            "_view_module": "@jupyter-widgets/base",
            "_view_module_version": "1.2.0",
            "_view_name": "LayoutView",
            "align_content": null,
            "align_items": null,
            "align_self": null,
            "border": null,
            "bottom": null,
            "display": null,
            "flex": null,
            "flex_flow": null,
            "grid_area": null,
            "grid_auto_columns": null,
            "grid_auto_flow": null,
            "grid_auto_rows": null,
            "grid_column": null,
            "grid_gap": null,
            "grid_row": null,
            "grid_template_areas": null,
            "grid_template_columns": null,
            "grid_template_rows": null,
            "height": null,
            "justify_content": null,
            "justify_items": null,
            "left": null,
            "margin": null,
            "max_height": null,
            "max_width": null,
            "min_height": null,
            "min_width": null,
            "object_fit": null,
            "object_position": null,
            "order": null,
            "overflow": null,
            "overflow_x": null,
            "overflow_y": null,
            "padding": null,
            "right": null,
            "top": null,
            "visibility": null,
            "width": null
          }
        },
        "85c9b73c8a0243029b62cfedf78db9d7": {
          "model_module": "@jupyter-widgets/controls",
          "model_name": "ProgressStyleModel",
          "model_module_version": "1.5.0",
          "state": {
            "_model_module": "@jupyter-widgets/controls",
            "_model_module_version": "1.5.0",
            "_model_name": "ProgressStyleModel",
            "_view_count": null,
            "_view_module": "@jupyter-widgets/base",
            "_view_module_version": "1.2.0",
            "_view_name": "StyleView",
            "bar_color": null,
            "description_width": ""
          }
        },
        "88582be19cda4000872a327033fa2673": {
          "model_module": "@jupyter-widgets/base",
          "model_name": "LayoutModel",
          "model_module_version": "1.2.0",
          "state": {
            "_model_module": "@jupyter-widgets/base",
            "_model_module_version": "1.2.0",
            "_model_name": "LayoutModel",
            "_view_count": null,
            "_view_module": "@jupyter-widgets/base",
            "_view_module_version": "1.2.0",
            "_view_name": "LayoutView",
            "align_content": null,
            "align_items": null,
            "align_self": null,
            "border": null,
            "bottom": null,
            "display": null,
            "flex": null,
            "flex_flow": null,
            "grid_area": null,
            "grid_auto_columns": null,
            "grid_auto_flow": null,
            "grid_auto_rows": null,
            "grid_column": null,
            "grid_gap": null,
            "grid_row": null,
            "grid_template_areas": null,
            "grid_template_columns": null,
            "grid_template_rows": null,
            "height": null,
            "justify_content": null,
            "justify_items": null,
            "left": null,
            "margin": null,
            "max_height": null,
            "max_width": null,
            "min_height": null,
            "min_width": null,
            "object_fit": null,
            "object_position": null,
            "order": null,
            "overflow": null,
            "overflow_x": null,
            "overflow_y": null,
            "padding": null,
            "right": null,
            "top": null,
            "visibility": null,
            "width": null
          }
        },
        "bcd60bf338aa4e8db1228269b4f77015": {
          "model_module": "@jupyter-widgets/controls",
          "model_name": "DescriptionStyleModel",
          "model_module_version": "1.5.0",
          "state": {
            "_model_module": "@jupyter-widgets/controls",
            "_model_module_version": "1.5.0",
            "_model_name": "DescriptionStyleModel",
            "_view_count": null,
            "_view_module": "@jupyter-widgets/base",
            "_view_module_version": "1.2.0",
            "_view_name": "StyleView",
            "description_width": ""
          }
        },
        "90f32e5078d943fd86caecabadf65b1c": {
          "model_module": "@jupyter-widgets/controls",
          "model_name": "HBoxModel",
          "model_module_version": "1.5.0",
          "state": {
            "_dom_classes": [],
            "_model_module": "@jupyter-widgets/controls",
            "_model_module_version": "1.5.0",
            "_model_name": "HBoxModel",
            "_view_count": null,
            "_view_module": "@jupyter-widgets/controls",
            "_view_module_version": "1.5.0",
            "_view_name": "HBoxView",
            "box_style": "",
            "children": [
              "IPY_MODEL_ef0565cbb2894582bd5b1f3afbf9b3ea",
              "IPY_MODEL_bf4f321da2124450b761ab9bed7ab92a",
              "IPY_MODEL_654883078d8f455ead1165979b64b728"
            ],
            "layout": "IPY_MODEL_1861f4bf2f1f45879be11c71030c26e1"
          }
        },
        "ef0565cbb2894582bd5b1f3afbf9b3ea": {
          "model_module": "@jupyter-widgets/controls",
          "model_name": "HTMLModel",
          "model_module_version": "1.5.0",
          "state": {
            "_dom_classes": [],
            "_model_module": "@jupyter-widgets/controls",
            "_model_module_version": "1.5.0",
            "_model_name": "HTMLModel",
            "_view_count": null,
            "_view_module": "@jupyter-widgets/controls",
            "_view_module_version": "1.5.0",
            "_view_name": "HTMLView",
            "description": "",
            "description_tooltip": null,
            "layout": "IPY_MODEL_d1bc8ddddb594ea5afcf00d793eadcf2",
            "placeholder": "​",
            "style": "IPY_MODEL_234079aa00b445569f38f8d4ada3e660",
            "value": "tokenizer_config.json: 100%"
          }
        },
        "bf4f321da2124450b761ab9bed7ab92a": {
          "model_module": "@jupyter-widgets/controls",
          "model_name": "FloatProgressModel",
          "model_module_version": "1.5.0",
          "state": {
            "_dom_classes": [],
            "_model_module": "@jupyter-widgets/controls",
            "_model_module_version": "1.5.0",
            "_model_name": "FloatProgressModel",
            "_view_count": null,
            "_view_module": "@jupyter-widgets/controls",
            "_view_module_version": "1.5.0",
            "_view_name": "ProgressView",
            "bar_style": "success",
            "description": "",
            "description_tooltip": null,
            "layout": "IPY_MODEL_5a6eeb84cb6c49e1b0dae5ac333e1857",
            "max": 26,
            "min": 0,
            "orientation": "horizontal",
            "style": "IPY_MODEL_739e96c447e9499ca7ed45233e1eea18",
            "value": 26
          }
        },
        "654883078d8f455ead1165979b64b728": {
          "model_module": "@jupyter-widgets/controls",
          "model_name": "HTMLModel",
          "model_module_version": "1.5.0",
          "state": {
            "_dom_classes": [],
            "_model_module": "@jupyter-widgets/controls",
            "_model_module_version": "1.5.0",
            "_model_name": "HTMLModel",
            "_view_count": null,
            "_view_module": "@jupyter-widgets/controls",
            "_view_module_version": "1.5.0",
            "_view_name": "HTMLView",
            "description": "",
            "description_tooltip": null,
            "layout": "IPY_MODEL_b4fc5a7c88da497c9921ff5fca8cce80",
            "placeholder": "​",
            "style": "IPY_MODEL_12229870e1d643d3b6027f52393ddd99",
            "value": " 26.0/26.0 [00:00&lt;00:00, 3.11kB/s]"
          }
        },
        "1861f4bf2f1f45879be11c71030c26e1": {
          "model_module": "@jupyter-widgets/base",
          "model_name": "LayoutModel",
          "model_module_version": "1.2.0",
          "state": {
            "_model_module": "@jupyter-widgets/base",
            "_model_module_version": "1.2.0",
            "_model_name": "LayoutModel",
            "_view_count": null,
            "_view_module": "@jupyter-widgets/base",
            "_view_module_version": "1.2.0",
            "_view_name": "LayoutView",
            "align_content": null,
            "align_items": null,
            "align_self": null,
            "border": null,
            "bottom": null,
            "display": null,
            "flex": null,
            "flex_flow": null,
            "grid_area": null,
            "grid_auto_columns": null,
            "grid_auto_flow": null,
            "grid_auto_rows": null,
            "grid_column": null,
            "grid_gap": null,
            "grid_row": null,
            "grid_template_areas": null,
            "grid_template_columns": null,
            "grid_template_rows": null,
            "height": null,
            "justify_content": null,
            "justify_items": null,
            "left": null,
            "margin": null,
            "max_height": null,
            "max_width": null,
            "min_height": null,
            "min_width": null,
            "object_fit": null,
            "object_position": null,
            "order": null,
            "overflow": null,
            "overflow_x": null,
            "overflow_y": null,
            "padding": null,
            "right": null,
            "top": null,
            "visibility": null,
            "width": null
          }
        },
        "d1bc8ddddb594ea5afcf00d793eadcf2": {
          "model_module": "@jupyter-widgets/base",
          "model_name": "LayoutModel",
          "model_module_version": "1.2.0",
          "state": {
            "_model_module": "@jupyter-widgets/base",
            "_model_module_version": "1.2.0",
            "_model_name": "LayoutModel",
            "_view_count": null,
            "_view_module": "@jupyter-widgets/base",
            "_view_module_version": "1.2.0",
            "_view_name": "LayoutView",
            "align_content": null,
            "align_items": null,
            "align_self": null,
            "border": null,
            "bottom": null,
            "display": null,
            "flex": null,
            "flex_flow": null,
            "grid_area": null,
            "grid_auto_columns": null,
            "grid_auto_flow": null,
            "grid_auto_rows": null,
            "grid_column": null,
            "grid_gap": null,
            "grid_row": null,
            "grid_template_areas": null,
            "grid_template_columns": null,
            "grid_template_rows": null,
            "height": null,
            "justify_content": null,
            "justify_items": null,
            "left": null,
            "margin": null,
            "max_height": null,
            "max_width": null,
            "min_height": null,
            "min_width": null,
            "object_fit": null,
            "object_position": null,
            "order": null,
            "overflow": null,
            "overflow_x": null,
            "overflow_y": null,
            "padding": null,
            "right": null,
            "top": null,
            "visibility": null,
            "width": null
          }
        },
        "234079aa00b445569f38f8d4ada3e660": {
          "model_module": "@jupyter-widgets/controls",
          "model_name": "DescriptionStyleModel",
          "model_module_version": "1.5.0",
          "state": {
            "_model_module": "@jupyter-widgets/controls",
            "_model_module_version": "1.5.0",
            "_model_name": "DescriptionStyleModel",
            "_view_count": null,
            "_view_module": "@jupyter-widgets/base",
            "_view_module_version": "1.2.0",
            "_view_name": "StyleView",
            "description_width": ""
          }
        },
        "5a6eeb84cb6c49e1b0dae5ac333e1857": {
          "model_module": "@jupyter-widgets/base",
          "model_name": "LayoutModel",
          "model_module_version": "1.2.0",
          "state": {
            "_model_module": "@jupyter-widgets/base",
            "_model_module_version": "1.2.0",
            "_model_name": "LayoutModel",
            "_view_count": null,
            "_view_module": "@jupyter-widgets/base",
            "_view_module_version": "1.2.0",
            "_view_name": "LayoutView",
            "align_content": null,
            "align_items": null,
            "align_self": null,
            "border": null,
            "bottom": null,
            "display": null,
            "flex": null,
            "flex_flow": null,
            "grid_area": null,
            "grid_auto_columns": null,
            "grid_auto_flow": null,
            "grid_auto_rows": null,
            "grid_column": null,
            "grid_gap": null,
            "grid_row": null,
            "grid_template_areas": null,
            "grid_template_columns": null,
            "grid_template_rows": null,
            "height": null,
            "justify_content": null,
            "justify_items": null,
            "left": null,
            "margin": null,
            "max_height": null,
            "max_width": null,
            "min_height": null,
            "min_width": null,
            "object_fit": null,
            "object_position": null,
            "order": null,
            "overflow": null,
            "overflow_x": null,
            "overflow_y": null,
            "padding": null,
            "right": null,
            "top": null,
            "visibility": null,
            "width": null
          }
        },
        "739e96c447e9499ca7ed45233e1eea18": {
          "model_module": "@jupyter-widgets/controls",
          "model_name": "ProgressStyleModel",
          "model_module_version": "1.5.0",
          "state": {
            "_model_module": "@jupyter-widgets/controls",
            "_model_module_version": "1.5.0",
            "_model_name": "ProgressStyleModel",
            "_view_count": null,
            "_view_module": "@jupyter-widgets/base",
            "_view_module_version": "1.2.0",
            "_view_name": "StyleView",
            "bar_color": null,
            "description_width": ""
          }
        },
        "b4fc5a7c88da497c9921ff5fca8cce80": {
          "model_module": "@jupyter-widgets/base",
          "model_name": "LayoutModel",
          "model_module_version": "1.2.0",
          "state": {
            "_model_module": "@jupyter-widgets/base",
            "_model_module_version": "1.2.0",
            "_model_name": "LayoutModel",
            "_view_count": null,
            "_view_module": "@jupyter-widgets/base",
            "_view_module_version": "1.2.0",
            "_view_name": "LayoutView",
            "align_content": null,
            "align_items": null,
            "align_self": null,
            "border": null,
            "bottom": null,
            "display": null,
            "flex": null,
            "flex_flow": null,
            "grid_area": null,
            "grid_auto_columns": null,
            "grid_auto_flow": null,
            "grid_auto_rows": null,
            "grid_column": null,
            "grid_gap": null,
            "grid_row": null,
            "grid_template_areas": null,
            "grid_template_columns": null,
            "grid_template_rows": null,
            "height": null,
            "justify_content": null,
            "justify_items": null,
            "left": null,
            "margin": null,
            "max_height": null,
            "max_width": null,
            "min_height": null,
            "min_width": null,
            "object_fit": null,
            "object_position": null,
            "order": null,
            "overflow": null,
            "overflow_x": null,
            "overflow_y": null,
            "padding": null,
            "right": null,
            "top": null,
            "visibility": null,
            "width": null
          }
        },
        "12229870e1d643d3b6027f52393ddd99": {
          "model_module": "@jupyter-widgets/controls",
          "model_name": "DescriptionStyleModel",
          "model_module_version": "1.5.0",
          "state": {
            "_model_module": "@jupyter-widgets/controls",
            "_model_module_version": "1.5.0",
            "_model_name": "DescriptionStyleModel",
            "_view_count": null,
            "_view_module": "@jupyter-widgets/base",
            "_view_module_version": "1.2.0",
            "_view_name": "StyleView",
            "description_width": ""
          }
        },
        "1a32067c5b514cdb97460d53e260253a": {
          "model_module": "@jupyter-widgets/controls",
          "model_name": "HBoxModel",
          "model_module_version": "1.5.0",
          "state": {
            "_dom_classes": [],
            "_model_module": "@jupyter-widgets/controls",
            "_model_module_version": "1.5.0",
            "_model_name": "HBoxModel",
            "_view_count": null,
            "_view_module": "@jupyter-widgets/controls",
            "_view_module_version": "1.5.0",
            "_view_name": "HBoxView",
            "box_style": "",
            "children": [
              "IPY_MODEL_a909252bcd134bda9625128cdcd3e3e0",
              "IPY_MODEL_b44a62f6c0a145fa89bd854f415ce921",
              "IPY_MODEL_6fc7d3d7c44c4c5883faebb54863e98c"
            ],
            "layout": "IPY_MODEL_0520b585856a41e49160a627b206601f"
          }
        },
        "a909252bcd134bda9625128cdcd3e3e0": {
          "model_module": "@jupyter-widgets/controls",
          "model_name": "HTMLModel",
          "model_module_version": "1.5.0",
          "state": {
            "_dom_classes": [],
            "_model_module": "@jupyter-widgets/controls",
            "_model_module_version": "1.5.0",
            "_model_name": "HTMLModel",
            "_view_count": null,
            "_view_module": "@jupyter-widgets/controls",
            "_view_module_version": "1.5.0",
            "_view_name": "HTMLView",
            "description": "",
            "description_tooltip": null,
            "layout": "IPY_MODEL_ba04d378a8cf46f3896c4e927c45127a",
            "placeholder": "​",
            "style": "IPY_MODEL_4cb406743be84d6d8cdb4d4936917b39",
            "value": "vocab.json: 100%"
          }
        },
        "b44a62f6c0a145fa89bd854f415ce921": {
          "model_module": "@jupyter-widgets/controls",
          "model_name": "FloatProgressModel",
          "model_module_version": "1.5.0",
          "state": {
            "_dom_classes": [],
            "_model_module": "@jupyter-widgets/controls",
            "_model_module_version": "1.5.0",
            "_model_name": "FloatProgressModel",
            "_view_count": null,
            "_view_module": "@jupyter-widgets/controls",
            "_view_module_version": "1.5.0",
            "_view_name": "ProgressView",
            "bar_style": "success",
            "description": "",
            "description_tooltip": null,
            "layout": "IPY_MODEL_154a29427e6e4190a5ddaf616f9f5a73",
            "max": 898822,
            "min": 0,
            "orientation": "horizontal",
            "style": "IPY_MODEL_32ec973bc18241d4a67209f1ddb2311d",
            "value": 898822
          }
        },
        "6fc7d3d7c44c4c5883faebb54863e98c": {
          "model_module": "@jupyter-widgets/controls",
          "model_name": "HTMLModel",
          "model_module_version": "1.5.0",
          "state": {
            "_dom_classes": [],
            "_model_module": "@jupyter-widgets/controls",
            "_model_module_version": "1.5.0",
            "_model_name": "HTMLModel",
            "_view_count": null,
            "_view_module": "@jupyter-widgets/controls",
            "_view_module_version": "1.5.0",
            "_view_name": "HTMLView",
            "description": "",
            "description_tooltip": null,
            "layout": "IPY_MODEL_83e28920b36247dc9d31311cf01c64da",
            "placeholder": "​",
            "style": "IPY_MODEL_bc4bccffb01c4cb9beec8387587af215",
            "value": " 899k/899k [00:00&lt;00:00, 49.9MB/s]"
          }
        },
        "0520b585856a41e49160a627b206601f": {
          "model_module": "@jupyter-widgets/base",
          "model_name": "LayoutModel",
          "model_module_version": "1.2.0",
          "state": {
            "_model_module": "@jupyter-widgets/base",
            "_model_module_version": "1.2.0",
            "_model_name": "LayoutModel",
            "_view_count": null,
            "_view_module": "@jupyter-widgets/base",
            "_view_module_version": "1.2.0",
            "_view_name": "LayoutView",
            "align_content": null,
            "align_items": null,
            "align_self": null,
            "border": null,
            "bottom": null,
            "display": null,
            "flex": null,
            "flex_flow": null,
            "grid_area": null,
            "grid_auto_columns": null,
            "grid_auto_flow": null,
            "grid_auto_rows": null,
            "grid_column": null,
            "grid_gap": null,
            "grid_row": null,
            "grid_template_areas": null,
            "grid_template_columns": null,
            "grid_template_rows": null,
            "height": null,
            "justify_content": null,
            "justify_items": null,
            "left": null,
            "margin": null,
            "max_height": null,
            "max_width": null,
            "min_height": null,
            "min_width": null,
            "object_fit": null,
            "object_position": null,
            "order": null,
            "overflow": null,
            "overflow_x": null,
            "overflow_y": null,
            "padding": null,
            "right": null,
            "top": null,
            "visibility": null,
            "width": null
          }
        },
        "ba04d378a8cf46f3896c4e927c45127a": {
          "model_module": "@jupyter-widgets/base",
          "model_name": "LayoutModel",
          "model_module_version": "1.2.0",
          "state": {
            "_model_module": "@jupyter-widgets/base",
            "_model_module_version": "1.2.0",
            "_model_name": "LayoutModel",
            "_view_count": null,
            "_view_module": "@jupyter-widgets/base",
            "_view_module_version": "1.2.0",
            "_view_name": "LayoutView",
            "align_content": null,
            "align_items": null,
            "align_self": null,
            "border": null,
            "bottom": null,
            "display": null,
            "flex": null,
            "flex_flow": null,
            "grid_area": null,
            "grid_auto_columns": null,
            "grid_auto_flow": null,
            "grid_auto_rows": null,
            "grid_column": null,
            "grid_gap": null,
            "grid_row": null,
            "grid_template_areas": null,
            "grid_template_columns": null,
            "grid_template_rows": null,
            "height": null,
            "justify_content": null,
            "justify_items": null,
            "left": null,
            "margin": null,
            "max_height": null,
            "max_width": null,
            "min_height": null,
            "min_width": null,
            "object_fit": null,
            "object_position": null,
            "order": null,
            "overflow": null,
            "overflow_x": null,
            "overflow_y": null,
            "padding": null,
            "right": null,
            "top": null,
            "visibility": null,
            "width": null
          }
        },
        "4cb406743be84d6d8cdb4d4936917b39": {
          "model_module": "@jupyter-widgets/controls",
          "model_name": "DescriptionStyleModel",
          "model_module_version": "1.5.0",
          "state": {
            "_model_module": "@jupyter-widgets/controls",
            "_model_module_version": "1.5.0",
            "_model_name": "DescriptionStyleModel",
            "_view_count": null,
            "_view_module": "@jupyter-widgets/base",
            "_view_module_version": "1.2.0",
            "_view_name": "StyleView",
            "description_width": ""
          }
        },
        "154a29427e6e4190a5ddaf616f9f5a73": {
          "model_module": "@jupyter-widgets/base",
          "model_name": "LayoutModel",
          "model_module_version": "1.2.0",
          "state": {
            "_model_module": "@jupyter-widgets/base",
            "_model_module_version": "1.2.0",
            "_model_name": "LayoutModel",
            "_view_count": null,
            "_view_module": "@jupyter-widgets/base",
            "_view_module_version": "1.2.0",
            "_view_name": "LayoutView",
            "align_content": null,
            "align_items": null,
            "align_self": null,
            "border": null,
            "bottom": null,
            "display": null,
            "flex": null,
            "flex_flow": null,
            "grid_area": null,
            "grid_auto_columns": null,
            "grid_auto_flow": null,
            "grid_auto_rows": null,
            "grid_column": null,
            "grid_gap": null,
            "grid_row": null,
            "grid_template_areas": null,
            "grid_template_columns": null,
            "grid_template_rows": null,
            "height": null,
            "justify_content": null,
            "justify_items": null,
            "left": null,
            "margin": null,
            "max_height": null,
            "max_width": null,
            "min_height": null,
            "min_width": null,
            "object_fit": null,
            "object_position": null,
            "order": null,
            "overflow": null,
            "overflow_x": null,
            "overflow_y": null,
            "padding": null,
            "right": null,
            "top": null,
            "visibility": null,
            "width": null
          }
        },
        "32ec973bc18241d4a67209f1ddb2311d": {
          "model_module": "@jupyter-widgets/controls",
          "model_name": "ProgressStyleModel",
          "model_module_version": "1.5.0",
          "state": {
            "_model_module": "@jupyter-widgets/controls",
            "_model_module_version": "1.5.0",
            "_model_name": "ProgressStyleModel",
            "_view_count": null,
            "_view_module": "@jupyter-widgets/base",
            "_view_module_version": "1.2.0",
            "_view_name": "StyleView",
            "bar_color": null,
            "description_width": ""
          }
        },
        "83e28920b36247dc9d31311cf01c64da": {
          "model_module": "@jupyter-widgets/base",
          "model_name": "LayoutModel",
          "model_module_version": "1.2.0",
          "state": {
            "_model_module": "@jupyter-widgets/base",
            "_model_module_version": "1.2.0",
            "_model_name": "LayoutModel",
            "_view_count": null,
            "_view_module": "@jupyter-widgets/base",
            "_view_module_version": "1.2.0",
            "_view_name": "LayoutView",
            "align_content": null,
            "align_items": null,
            "align_self": null,
            "border": null,
            "bottom": null,
            "display": null,
            "flex": null,
            "flex_flow": null,
            "grid_area": null,
            "grid_auto_columns": null,
            "grid_auto_flow": null,
            "grid_auto_rows": null,
            "grid_column": null,
            "grid_gap": null,
            "grid_row": null,
            "grid_template_areas": null,
            "grid_template_columns": null,
            "grid_template_rows": null,
            "height": null,
            "justify_content": null,
            "justify_items": null,
            "left": null,
            "margin": null,
            "max_height": null,
            "max_width": null,
            "min_height": null,
            "min_width": null,
            "object_fit": null,
            "object_position": null,
            "order": null,
            "overflow": null,
            "overflow_x": null,
            "overflow_y": null,
            "padding": null,
            "right": null,
            "top": null,
            "visibility": null,
            "width": null
          }
        },
        "bc4bccffb01c4cb9beec8387587af215": {
          "model_module": "@jupyter-widgets/controls",
          "model_name": "DescriptionStyleModel",
          "model_module_version": "1.5.0",
          "state": {
            "_model_module": "@jupyter-widgets/controls",
            "_model_module_version": "1.5.0",
            "_model_name": "DescriptionStyleModel",
            "_view_count": null,
            "_view_module": "@jupyter-widgets/base",
            "_view_module_version": "1.2.0",
            "_view_name": "StyleView",
            "description_width": ""
          }
        },
        "863be51c995347d18b805dda20f2b3f5": {
          "model_module": "@jupyter-widgets/controls",
          "model_name": "HBoxModel",
          "model_module_version": "1.5.0",
          "state": {
            "_dom_classes": [],
            "_model_module": "@jupyter-widgets/controls",
            "_model_module_version": "1.5.0",
            "_model_name": "HBoxModel",
            "_view_count": null,
            "_view_module": "@jupyter-widgets/controls",
            "_view_module_version": "1.5.0",
            "_view_name": "HBoxView",
            "box_style": "",
            "children": [
              "IPY_MODEL_e2b9d84cf4dc44ad8d943591fac5f842",
              "IPY_MODEL_c0e889745839468dbb1dde3b3d96cd8f",
              "IPY_MODEL_9b9bd054249644659040c8a78be349a9"
            ],
            "layout": "IPY_MODEL_61ce5a48b1e34aabac9796635a8fc4ec"
          }
        },
        "e2b9d84cf4dc44ad8d943591fac5f842": {
          "model_module": "@jupyter-widgets/controls",
          "model_name": "HTMLModel",
          "model_module_version": "1.5.0",
          "state": {
            "_dom_classes": [],
            "_model_module": "@jupyter-widgets/controls",
            "_model_module_version": "1.5.0",
            "_model_name": "HTMLModel",
            "_view_count": null,
            "_view_module": "@jupyter-widgets/controls",
            "_view_module_version": "1.5.0",
            "_view_name": "HTMLView",
            "description": "",
            "description_tooltip": null,
            "layout": "IPY_MODEL_2dfff1f6ddcd4dff84fd6877c7847ec5",
            "placeholder": "​",
            "style": "IPY_MODEL_be11ab58551a44ce8aa18484780a8f31",
            "value": "merges.txt: 100%"
          }
        },
        "c0e889745839468dbb1dde3b3d96cd8f": {
          "model_module": "@jupyter-widgets/controls",
          "model_name": "FloatProgressModel",
          "model_module_version": "1.5.0",
          "state": {
            "_dom_classes": [],
            "_model_module": "@jupyter-widgets/controls",
            "_model_module_version": "1.5.0",
            "_model_name": "FloatProgressModel",
            "_view_count": null,
            "_view_module": "@jupyter-widgets/controls",
            "_view_module_version": "1.5.0",
            "_view_name": "ProgressView",
            "bar_style": "success",
            "description": "",
            "description_tooltip": null,
            "layout": "IPY_MODEL_ef1430c7e3484be0aa16dd07b836942c",
            "max": 456318,
            "min": 0,
            "orientation": "horizontal",
            "style": "IPY_MODEL_a49a12fdfb2841bead0a5d2b3589c451",
            "value": 456318
          }
        },
        "9b9bd054249644659040c8a78be349a9": {
          "model_module": "@jupyter-widgets/controls",
          "model_name": "HTMLModel",
          "model_module_version": "1.5.0",
          "state": {
            "_dom_classes": [],
            "_model_module": "@jupyter-widgets/controls",
            "_model_module_version": "1.5.0",
            "_model_name": "HTMLModel",
            "_view_count": null,
            "_view_module": "@jupyter-widgets/controls",
            "_view_module_version": "1.5.0",
            "_view_name": "HTMLView",
            "description": "",
            "description_tooltip": null,
            "layout": "IPY_MODEL_f186cd9519e247518ce7494d26e7c2e2",
            "placeholder": "​",
            "style": "IPY_MODEL_65b270aabcda4278954bdda22ba885cf",
            "value": " 456k/456k [00:00&lt;00:00, 39.1MB/s]"
          }
        },
        "61ce5a48b1e34aabac9796635a8fc4ec": {
          "model_module": "@jupyter-widgets/base",
          "model_name": "LayoutModel",
          "model_module_version": "1.2.0",
          "state": {
            "_model_module": "@jupyter-widgets/base",
            "_model_module_version": "1.2.0",
            "_model_name": "LayoutModel",
            "_view_count": null,
            "_view_module": "@jupyter-widgets/base",
            "_view_module_version": "1.2.0",
            "_view_name": "LayoutView",
            "align_content": null,
            "align_items": null,
            "align_self": null,
            "border": null,
            "bottom": null,
            "display": null,
            "flex": null,
            "flex_flow": null,
            "grid_area": null,
            "grid_auto_columns": null,
            "grid_auto_flow": null,
            "grid_auto_rows": null,
            "grid_column": null,
            "grid_gap": null,
            "grid_row": null,
            "grid_template_areas": null,
            "grid_template_columns": null,
            "grid_template_rows": null,
            "height": null,
            "justify_content": null,
            "justify_items": null,
            "left": null,
            "margin": null,
            "max_height": null,
            "max_width": null,
            "min_height": null,
            "min_width": null,
            "object_fit": null,
            "object_position": null,
            "order": null,
            "overflow": null,
            "overflow_x": null,
            "overflow_y": null,
            "padding": null,
            "right": null,
            "top": null,
            "visibility": null,
            "width": null
          }
        },
        "2dfff1f6ddcd4dff84fd6877c7847ec5": {
          "model_module": "@jupyter-widgets/base",
          "model_name": "LayoutModel",
          "model_module_version": "1.2.0",
          "state": {
            "_model_module": "@jupyter-widgets/base",
            "_model_module_version": "1.2.0",
            "_model_name": "LayoutModel",
            "_view_count": null,
            "_view_module": "@jupyter-widgets/base",
            "_view_module_version": "1.2.0",
            "_view_name": "LayoutView",
            "align_content": null,
            "align_items": null,
            "align_self": null,
            "border": null,
            "bottom": null,
            "display": null,
            "flex": null,
            "flex_flow": null,
            "grid_area": null,
            "grid_auto_columns": null,
            "grid_auto_flow": null,
            "grid_auto_rows": null,
            "grid_column": null,
            "grid_gap": null,
            "grid_row": null,
            "grid_template_areas": null,
            "grid_template_columns": null,
            "grid_template_rows": null,
            "height": null,
            "justify_content": null,
            "justify_items": null,
            "left": null,
            "margin": null,
            "max_height": null,
            "max_width": null,
            "min_height": null,
            "min_width": null,
            "object_fit": null,
            "object_position": null,
            "order": null,
            "overflow": null,
            "overflow_x": null,
            "overflow_y": null,
            "padding": null,
            "right": null,
            "top": null,
            "visibility": null,
            "width": null
          }
        },
        "be11ab58551a44ce8aa18484780a8f31": {
          "model_module": "@jupyter-widgets/controls",
          "model_name": "DescriptionStyleModel",
          "model_module_version": "1.5.0",
          "state": {
            "_model_module": "@jupyter-widgets/controls",
            "_model_module_version": "1.5.0",
            "_model_name": "DescriptionStyleModel",
            "_view_count": null,
            "_view_module": "@jupyter-widgets/base",
            "_view_module_version": "1.2.0",
            "_view_name": "StyleView",
            "description_width": ""
          }
        },
        "ef1430c7e3484be0aa16dd07b836942c": {
          "model_module": "@jupyter-widgets/base",
          "model_name": "LayoutModel",
          "model_module_version": "1.2.0",
          "state": {
            "_model_module": "@jupyter-widgets/base",
            "_model_module_version": "1.2.0",
            "_model_name": "LayoutModel",
            "_view_count": null,
            "_view_module": "@jupyter-widgets/base",
            "_view_module_version": "1.2.0",
            "_view_name": "LayoutView",
            "align_content": null,
            "align_items": null,
            "align_self": null,
            "border": null,
            "bottom": null,
            "display": null,
            "flex": null,
            "flex_flow": null,
            "grid_area": null,
            "grid_auto_columns": null,
            "grid_auto_flow": null,
            "grid_auto_rows": null,
            "grid_column": null,
            "grid_gap": null,
            "grid_row": null,
            "grid_template_areas": null,
            "grid_template_columns": null,
            "grid_template_rows": null,
            "height": null,
            "justify_content": null,
            "justify_items": null,
            "left": null,
            "margin": null,
            "max_height": null,
            "max_width": null,
            "min_height": null,
            "min_width": null,
            "object_fit": null,
            "object_position": null,
            "order": null,
            "overflow": null,
            "overflow_x": null,
            "overflow_y": null,
            "padding": null,
            "right": null,
            "top": null,
            "visibility": null,
            "width": null
          }
        },
        "a49a12fdfb2841bead0a5d2b3589c451": {
          "model_module": "@jupyter-widgets/controls",
          "model_name": "ProgressStyleModel",
          "model_module_version": "1.5.0",
          "state": {
            "_model_module": "@jupyter-widgets/controls",
            "_model_module_version": "1.5.0",
            "_model_name": "ProgressStyleModel",
            "_view_count": null,
            "_view_module": "@jupyter-widgets/base",
            "_view_module_version": "1.2.0",
            "_view_name": "StyleView",
            "bar_color": null,
            "description_width": ""
          }
        },
        "f186cd9519e247518ce7494d26e7c2e2": {
          "model_module": "@jupyter-widgets/base",
          "model_name": "LayoutModel",
          "model_module_version": "1.2.0",
          "state": {
            "_model_module": "@jupyter-widgets/base",
            "_model_module_version": "1.2.0",
            "_model_name": "LayoutModel",
            "_view_count": null,
            "_view_module": "@jupyter-widgets/base",
            "_view_module_version": "1.2.0",
            "_view_name": "LayoutView",
            "align_content": null,
            "align_items": null,
            "align_self": null,
            "border": null,
            "bottom": null,
            "display": null,
            "flex": null,
            "flex_flow": null,
            "grid_area": null,
            "grid_auto_columns": null,
            "grid_auto_flow": null,
            "grid_auto_rows": null,
            "grid_column": null,
            "grid_gap": null,
            "grid_row": null,
            "grid_template_areas": null,
            "grid_template_columns": null,
            "grid_template_rows": null,
            "height": null,
            "justify_content": null,
            "justify_items": null,
            "left": null,
            "margin": null,
            "max_height": null,
            "max_width": null,
            "min_height": null,
            "min_width": null,
            "object_fit": null,
            "object_position": null,
            "order": null,
            "overflow": null,
            "overflow_x": null,
            "overflow_y": null,
            "padding": null,
            "right": null,
            "top": null,
            "visibility": null,
            "width": null
          }
        },
        "65b270aabcda4278954bdda22ba885cf": {
          "model_module": "@jupyter-widgets/controls",
          "model_name": "DescriptionStyleModel",
          "model_module_version": "1.5.0",
          "state": {
            "_model_module": "@jupyter-widgets/controls",
            "_model_module_version": "1.5.0",
            "_model_name": "DescriptionStyleModel",
            "_view_count": null,
            "_view_module": "@jupyter-widgets/base",
            "_view_module_version": "1.2.0",
            "_view_name": "StyleView",
            "description_width": ""
          }
        },
        "db4dfae7ceb443379d6f4d0cdf266fed": {
          "model_module": "@jupyter-widgets/controls",
          "model_name": "HBoxModel",
          "model_module_version": "1.5.0",
          "state": {
            "_dom_classes": [],
            "_model_module": "@jupyter-widgets/controls",
            "_model_module_version": "1.5.0",
            "_model_name": "HBoxModel",
            "_view_count": null,
            "_view_module": "@jupyter-widgets/controls",
            "_view_module_version": "1.5.0",
            "_view_name": "HBoxView",
            "box_style": "",
            "children": [
              "IPY_MODEL_86a80ce1b24c420280572080b6a541b9",
              "IPY_MODEL_38d91172b7844ed9b931d32385e77264",
              "IPY_MODEL_29ea0002cf0645c4b2e67f04e03a41d3"
            ],
            "layout": "IPY_MODEL_a7d77ea8efe04beca3520d940d5cdb93"
          }
        },
        "86a80ce1b24c420280572080b6a541b9": {
          "model_module": "@jupyter-widgets/controls",
          "model_name": "HTMLModel",
          "model_module_version": "1.5.0",
          "state": {
            "_dom_classes": [],
            "_model_module": "@jupyter-widgets/controls",
            "_model_module_version": "1.5.0",
            "_model_name": "HTMLModel",
            "_view_count": null,
            "_view_module": "@jupyter-widgets/controls",
            "_view_module_version": "1.5.0",
            "_view_name": "HTMLView",
            "description": "",
            "description_tooltip": null,
            "layout": "IPY_MODEL_2d424bd4ddc0451092b84310eed06006",
            "placeholder": "​",
            "style": "IPY_MODEL_e8ca0a9a66c946788fd95e457dab9a0f",
            "value": "tokenizer.json: 100%"
          }
        },
        "38d91172b7844ed9b931d32385e77264": {
          "model_module": "@jupyter-widgets/controls",
          "model_name": "FloatProgressModel",
          "model_module_version": "1.5.0",
          "state": {
            "_dom_classes": [],
            "_model_module": "@jupyter-widgets/controls",
            "_model_module_version": "1.5.0",
            "_model_name": "FloatProgressModel",
            "_view_count": null,
            "_view_module": "@jupyter-widgets/controls",
            "_view_module_version": "1.5.0",
            "_view_name": "ProgressView",
            "bar_style": "success",
            "description": "",
            "description_tooltip": null,
            "layout": "IPY_MODEL_e48decf6805c4a0ba4e75c6806dd50e9",
            "max": 1355863,
            "min": 0,
            "orientation": "horizontal",
            "style": "IPY_MODEL_6aef96482b5346d296a74f985747e196",
            "value": 1355863
          }
        },
        "29ea0002cf0645c4b2e67f04e03a41d3": {
          "model_module": "@jupyter-widgets/controls",
          "model_name": "HTMLModel",
          "model_module_version": "1.5.0",
          "state": {
            "_dom_classes": [],
            "_model_module": "@jupyter-widgets/controls",
            "_model_module_version": "1.5.0",
            "_model_name": "HTMLModel",
            "_view_count": null,
            "_view_module": "@jupyter-widgets/controls",
            "_view_module_version": "1.5.0",
            "_view_name": "HTMLView",
            "description": "",
            "description_tooltip": null,
            "layout": "IPY_MODEL_e3b3363a040a4546b21cba1054ce2b7f",
            "placeholder": "​",
            "style": "IPY_MODEL_2c4a2a5261ce4c17a18d0baa53cbfa50",
            "value": " 1.36M/1.36M [00:00&lt;00:00, 3.11MB/s]"
          }
        },
        "a7d77ea8efe04beca3520d940d5cdb93": {
          "model_module": "@jupyter-widgets/base",
          "model_name": "LayoutModel",
          "model_module_version": "1.2.0",
          "state": {
            "_model_module": "@jupyter-widgets/base",
            "_model_module_version": "1.2.0",
            "_model_name": "LayoutModel",
            "_view_count": null,
            "_view_module": "@jupyter-widgets/base",
            "_view_module_version": "1.2.0",
            "_view_name": "LayoutView",
            "align_content": null,
            "align_items": null,
            "align_self": null,
            "border": null,
            "bottom": null,
            "display": null,
            "flex": null,
            "flex_flow": null,
            "grid_area": null,
            "grid_auto_columns": null,
            "grid_auto_flow": null,
            "grid_auto_rows": null,
            "grid_column": null,
            "grid_gap": null,
            "grid_row": null,
            "grid_template_areas": null,
            "grid_template_columns": null,
            "grid_template_rows": null,
            "height": null,
            "justify_content": null,
            "justify_items": null,
            "left": null,
            "margin": null,
            "max_height": null,
            "max_width": null,
            "min_height": null,
            "min_width": null,
            "object_fit": null,
            "object_position": null,
            "order": null,
            "overflow": null,
            "overflow_x": null,
            "overflow_y": null,
            "padding": null,
            "right": null,
            "top": null,
            "visibility": null,
            "width": null
          }
        },
        "2d424bd4ddc0451092b84310eed06006": {
          "model_module": "@jupyter-widgets/base",
          "model_name": "LayoutModel",
          "model_module_version": "1.2.0",
          "state": {
            "_model_module": "@jupyter-widgets/base",
            "_model_module_version": "1.2.0",
            "_model_name": "LayoutModel",
            "_view_count": null,
            "_view_module": "@jupyter-widgets/base",
            "_view_module_version": "1.2.0",
            "_view_name": "LayoutView",
            "align_content": null,
            "align_items": null,
            "align_self": null,
            "border": null,
            "bottom": null,
            "display": null,
            "flex": null,
            "flex_flow": null,
            "grid_area": null,
            "grid_auto_columns": null,
            "grid_auto_flow": null,
            "grid_auto_rows": null,
            "grid_column": null,
            "grid_gap": null,
            "grid_row": null,
            "grid_template_areas": null,
            "grid_template_columns": null,
            "grid_template_rows": null,
            "height": null,
            "justify_content": null,
            "justify_items": null,
            "left": null,
            "margin": null,
            "max_height": null,
            "max_width": null,
            "min_height": null,
            "min_width": null,
            "object_fit": null,
            "object_position": null,
            "order": null,
            "overflow": null,
            "overflow_x": null,
            "overflow_y": null,
            "padding": null,
            "right": null,
            "top": null,
            "visibility": null,
            "width": null
          }
        },
        "e8ca0a9a66c946788fd95e457dab9a0f": {
          "model_module": "@jupyter-widgets/controls",
          "model_name": "DescriptionStyleModel",
          "model_module_version": "1.5.0",
          "state": {
            "_model_module": "@jupyter-widgets/controls",
            "_model_module_version": "1.5.0",
            "_model_name": "DescriptionStyleModel",
            "_view_count": null,
            "_view_module": "@jupyter-widgets/base",
            "_view_module_version": "1.2.0",
            "_view_name": "StyleView",
            "description_width": ""
          }
        },
        "e48decf6805c4a0ba4e75c6806dd50e9": {
          "model_module": "@jupyter-widgets/base",
          "model_name": "LayoutModel",
          "model_module_version": "1.2.0",
          "state": {
            "_model_module": "@jupyter-widgets/base",
            "_model_module_version": "1.2.0",
            "_model_name": "LayoutModel",
            "_view_count": null,
            "_view_module": "@jupyter-widgets/base",
            "_view_module_version": "1.2.0",
            "_view_name": "LayoutView",
            "align_content": null,
            "align_items": null,
            "align_self": null,
            "border": null,
            "bottom": null,
            "display": null,
            "flex": null,
            "flex_flow": null,
            "grid_area": null,
            "grid_auto_columns": null,
            "grid_auto_flow": null,
            "grid_auto_rows": null,
            "grid_column": null,
            "grid_gap": null,
            "grid_row": null,
            "grid_template_areas": null,
            "grid_template_columns": null,
            "grid_template_rows": null,
            "height": null,
            "justify_content": null,
            "justify_items": null,
            "left": null,
            "margin": null,
            "max_height": null,
            "max_width": null,
            "min_height": null,
            "min_width": null,
            "object_fit": null,
            "object_position": null,
            "order": null,
            "overflow": null,
            "overflow_x": null,
            "overflow_y": null,
            "padding": null,
            "right": null,
            "top": null,
            "visibility": null,
            "width": null
          }
        },
        "6aef96482b5346d296a74f985747e196": {
          "model_module": "@jupyter-widgets/controls",
          "model_name": "ProgressStyleModel",
          "model_module_version": "1.5.0",
          "state": {
            "_model_module": "@jupyter-widgets/controls",
            "_model_module_version": "1.5.0",
            "_model_name": "ProgressStyleModel",
            "_view_count": null,
            "_view_module": "@jupyter-widgets/base",
            "_view_module_version": "1.2.0",
            "_view_name": "StyleView",
            "bar_color": null,
            "description_width": ""
          }
        },
        "e3b3363a040a4546b21cba1054ce2b7f": {
          "model_module": "@jupyter-widgets/base",
          "model_name": "LayoutModel",
          "model_module_version": "1.2.0",
          "state": {
            "_model_module": "@jupyter-widgets/base",
            "_model_module_version": "1.2.0",
            "_model_name": "LayoutModel",
            "_view_count": null,
            "_view_module": "@jupyter-widgets/base",
            "_view_module_version": "1.2.0",
            "_view_name": "LayoutView",
            "align_content": null,
            "align_items": null,
            "align_self": null,
            "border": null,
            "bottom": null,
            "display": null,
            "flex": null,
            "flex_flow": null,
            "grid_area": null,
            "grid_auto_columns": null,
            "grid_auto_flow": null,
            "grid_auto_rows": null,
            "grid_column": null,
            "grid_gap": null,
            "grid_row": null,
            "grid_template_areas": null,
            "grid_template_columns": null,
            "grid_template_rows": null,
            "height": null,
            "justify_content": null,
            "justify_items": null,
            "left": null,
            "margin": null,
            "max_height": null,
            "max_width": null,
            "min_height": null,
            "min_width": null,
            "object_fit": null,
            "object_position": null,
            "order": null,
            "overflow": null,
            "overflow_x": null,
            "overflow_y": null,
            "padding": null,
            "right": null,
            "top": null,
            "visibility": null,
            "width": null
          }
        },
        "2c4a2a5261ce4c17a18d0baa53cbfa50": {
          "model_module": "@jupyter-widgets/controls",
          "model_name": "DescriptionStyleModel",
          "model_module_version": "1.5.0",
          "state": {
            "_model_module": "@jupyter-widgets/controls",
            "_model_module_version": "1.5.0",
            "_model_name": "DescriptionStyleModel",
            "_view_count": null,
            "_view_module": "@jupyter-widgets/base",
            "_view_module_version": "1.2.0",
            "_view_name": "StyleView",
            "description_width": ""
          }
        }
      }
    }
  },
  "nbformat": 4,
  "nbformat_minor": 0
}